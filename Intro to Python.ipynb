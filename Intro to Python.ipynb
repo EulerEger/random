{
 "cells": [
  {
   "cell_type": "markdown",
   "id": "edf257a8-69a3-4a6c-8f3c-1b3f82e29f0a",
   "metadata": {},
   "source": [
    "$$Variable$$"
   ]
  },
  {
   "cell_type": "code",
   "execution_count": 4,
   "id": "ffd68dde-69df-4b05-b172-d4b3ae856ff4",
   "metadata": {},
   "outputs": [],
   "source": [
    "x=10"
   ]
  },
  {
   "cell_type": "code",
   "execution_count": 6,
   "id": "f9997265-5cd0-40b0-8766-d2f4bf464665",
   "metadata": {},
   "outputs": [],
   "source": [
    "x=3"
   ]
  },
  {
   "cell_type": "code",
   "execution_count": 7,
   "id": "bed4b58c-ea14-401f-b4aa-0e6a4bc621cf",
   "metadata": {},
   "outputs": [
    {
     "data": {
      "text/plain": [
       "9"
      ]
     },
     "execution_count": 7,
     "metadata": {},
     "output_type": "execute_result"
    }
   ],
   "source": [
    "x**2"
   ]
  },
  {
   "cell_type": "code",
   "execution_count": 10,
   "id": "922e9db5-c234-46fb-b260-e4f306725a4b",
   "metadata": {},
   "outputs": [],
   "source": [
    "x = 'Ca{}t'.format('s')"
   ]
  },
  {
   "cell_type": "code",
   "execution_count": 11,
   "id": "72f7d769-ec6a-4020-ace4-2f9868d1602c",
   "metadata": {},
   "outputs": [
    {
     "data": {
      "text/plain": [
       "'Cast'"
      ]
     },
     "execution_count": 11,
     "metadata": {},
     "output_type": "execute_result"
    }
   ],
   "source": [
    "x"
   ]
  },
  {
   "cell_type": "code",
   "execution_count": 12,
   "id": "f62c414a-f410-4ff9-9f54-eb87879f210e",
   "metadata": {},
   "outputs": [],
   "source": [
    "age=24.3546"
   ]
  },
  {
   "cell_type": "code",
   "execution_count": 16,
   "id": "84234c27-6986-4e08-b403-98b621356faf",
   "metadata": {},
   "outputs": [],
   "source": [
    "X=\"I am {} years old\".format(age)"
   ]
  },
  {
   "cell_type": "code",
   "execution_count": 18,
   "id": "00e2c874-a63a-43af-8732-48630a439199",
   "metadata": {},
   "outputs": [
    {
     "data": {
      "text/plain": [
       "'I am 24.3546 years old'"
      ]
     },
     "execution_count": 18,
     "metadata": {},
     "output_type": "execute_result"
    }
   ],
   "source": [
    "X"
   ]
  },
  {
   "cell_type": "markdown",
   "id": "83ff50b7-60ad-49bd-90a3-c5676d58effa",
   "metadata": {},
   "source": [
    "$$List, Tuples Dictionaries, Arrays$$\n",
    "\n",
    "$List$"
   ]
  },
  {
   "cell_type": "markdown",
   "id": "4b218c3b-41d0-4824-b49d-137aad04afd2",
   "metadata": {},
   "source": [
    "List"
   ]
  },
  {
   "cell_type": "code",
   "execution_count": 41,
   "id": "dd27d689-1c93-4b94-802d-f01a1dab624f",
   "metadata": {},
   "outputs": [],
   "source": [
    "x=[1,3,5,7, 'cat',[1,2]]\n",
    "y=['dog','horse']"
   ]
  },
  {
   "cell_type": "code",
   "execution_count": 26,
   "id": "c0d07e5d-89e5-42b4-8889-8bf7949d41ad",
   "metadata": {},
   "outputs": [
    {
     "data": {
      "text/plain": [
       "2"
      ]
     },
     "execution_count": 26,
     "metadata": {},
     "output_type": "execute_result"
    }
   ],
   "source": [
    "x[5][1]"
   ]
  },
  {
   "cell_type": "code",
   "execution_count": 38,
   "id": "648b6f00-4ffd-4a5e-af97-69188a71fd96",
   "metadata": {},
   "outputs": [],
   "source": [
    "x.append(2)"
   ]
  },
  {
   "cell_type": "code",
   "execution_count": 39,
   "id": "5607263c-8a80-443d-882b-80aa7c4e5229",
   "metadata": {},
   "outputs": [
    {
     "data": {
      "text/plain": [
       "[1, 3, 5, 7, 'cat', [1, 2], 2]"
      ]
     },
     "execution_count": 39,
     "metadata": {},
     "output_type": "execute_result"
    }
   ],
   "source": [
    "x"
   ]
  },
  {
   "cell_type": "code",
   "execution_count": 40,
   "id": "321cfe03-4518-4c84-8d7a-72a93d13095f",
   "metadata": {},
   "outputs": [
    {
     "data": {
      "text/plain": [
       "[1, 3, 5, 7, 'cat', [1, 2], 2, 1, 3, 5, 7, 'cat', [1, 2], 2]"
      ]
     },
     "execution_count": 40,
     "metadata": {},
     "output_type": "execute_result"
    }
   ],
   "source": [
    "x*2"
   ]
  },
  {
   "cell_type": "code",
   "execution_count": 42,
   "id": "bb365037-7d72-45b6-ba89-6f67e4c99aed",
   "metadata": {},
   "outputs": [
    {
     "data": {
      "text/plain": [
       "[1, 3, 5, 7, 'cat', [1, 2], 'dog', 'horse']"
      ]
     },
     "execution_count": 42,
     "metadata": {},
     "output_type": "execute_result"
    }
   ],
   "source": [
    "x+y"
   ]
  },
  {
   "cell_type": "markdown",
   "id": "7fe94e31-89ef-454d-8282-4728fdb85c16",
   "metadata": {},
   "source": [
    "Tuple"
   ]
  },
  {
   "cell_type": "code",
   "execution_count": 27,
   "id": "c8004346-2ada-4978-8f46-b127859a0fac",
   "metadata": {},
   "outputs": [],
   "source": [
    "x = (1,2,3,'cat',[1,2])"
   ]
  },
  {
   "cell_type": "code",
   "execution_count": 28,
   "id": "c940c392-fb8b-44e7-9258-dae916ac2b78",
   "metadata": {},
   "outputs": [
    {
     "data": {
      "text/plain": [
       "(1, 2, 3, 'cat', [1, 2])"
      ]
     },
     "execution_count": 28,
     "metadata": {},
     "output_type": "execute_result"
    }
   ],
   "source": [
    "x"
   ]
  },
  {
   "cell_type": "markdown",
   "id": "0d24d5f4-831e-4b78-8576-e12a8d7698c9",
   "metadata": {},
   "source": [
    "Dictionary"
   ]
  },
  {
   "cell_type": "code",
   "execution_count": 29,
   "id": "3514c48d-2c29-43c9-8444-4c7e4aafb195",
   "metadata": {},
   "outputs": [],
   "source": [
    "d={'cat':'feline','dog':'canine',7:63}"
   ]
  },
  {
   "cell_type": "code",
   "execution_count": 30,
   "id": "f5c23d38-f4ee-48b3-ae73-40aefaa68b9c",
   "metadata": {},
   "outputs": [
    {
     "data": {
      "text/plain": [
       "63"
      ]
     },
     "execution_count": 30,
     "metadata": {},
     "output_type": "execute_result"
    }
   ],
   "source": [
    "d[7]"
   ]
  },
  {
   "cell_type": "markdown",
   "id": "b5417e8d-8231-4393-8c42-2bcfbc12d947",
   "metadata": {},
   "source": [
    "Array"
   ]
  },
  {
   "cell_type": "code",
   "execution_count": 31,
   "id": "48d81606-397e-4386-8a93-f3fc895d9bf7",
   "metadata": {},
   "outputs": [],
   "source": [
    "import numpy as np"
   ]
  },
  {
   "cell_type": "code",
   "execution_count": 45,
   "id": "3d23c463-cbf3-4601-8b90-3dea91d42dbc",
   "metadata": {},
   "outputs": [],
   "source": [
    "x=np.array([1,2,3,4,5])"
   ]
  },
  {
   "cell_type": "code",
   "execution_count": 46,
   "id": "81bc9376-adc4-4156-bb45-b97ba4f5eb90",
   "metadata": {},
   "outputs": [
    {
     "data": {
      "text/plain": [
       "array([1, 2, 3, 4, 5])"
      ]
     },
     "execution_count": 46,
     "metadata": {},
     "output_type": "execute_result"
    }
   ],
   "source": [
    "x"
   ]
  },
  {
   "cell_type": "code",
   "execution_count": 47,
   "id": "8907fa93-a793-4eff-aef0-411baaaa034e",
   "metadata": {},
   "outputs": [
    {
     "data": {
      "text/plain": [
       "array([ 2,  4,  6,  8, 10])"
      ]
     },
     "execution_count": 47,
     "metadata": {},
     "output_type": "execute_result"
    }
   ],
   "source": [
    "x*2"
   ]
  },
  {
   "cell_type": "code",
   "execution_count": 48,
   "id": "9026db3c-6580-46ae-80ee-a15e74a576aa",
   "metadata": {},
   "outputs": [
    {
     "data": {
      "text/plain": [
       "array([1.        , 0.5       , 0.33333333, 0.25      , 0.2       ])"
      ]
     },
     "execution_count": 48,
     "metadata": {},
     "output_type": "execute_result"
    }
   ],
   "source": [
    "1/x"
   ]
  },
  {
   "cell_type": "code",
   "execution_count": 55,
   "id": "07438166-c60e-4beb-a8c4-1a5df1c3b2ca",
   "metadata": {},
   "outputs": [],
   "source": [
    "x = np.linspace(0,20,2)"
   ]
  },
  {
   "cell_type": "code",
   "execution_count": 56,
   "id": "aeaee1cc-23f3-4f33-b003-cabcf98b1db5",
   "metadata": {},
   "outputs": [
    {
     "data": {
      "text/plain": [
       "array([ 0., 20.])"
      ]
     },
     "execution_count": 56,
     "metadata": {},
     "output_type": "execute_result"
    }
   ],
   "source": [
    "x"
   ]
  },
  {
   "cell_type": "code",
   "execution_count": 57,
   "id": "00d64f48-4946-4ec0-aa22-f71191e2b155",
   "metadata": {},
   "outputs": [
    {
     "data": {
      "text/plain": [
       "array([  0., 400.])"
      ]
     },
     "execution_count": 57,
     "metadata": {},
     "output_type": "execute_result"
    }
   ],
   "source": [
    "x**2"
   ]
  },
  {
   "cell_type": "markdown",
   "id": "a4685f77-2cf7-4146-a18d-18e795ce7c2c",
   "metadata": {},
   "source": [
    "Plotting"
   ]
  },
  {
   "cell_type": "code",
   "execution_count": 58,
   "id": "0daee5e3-f961-41d6-874e-beff4a65d905",
   "metadata": {},
   "outputs": [],
   "source": [
    "import matplotlib.pyplot as plt"
   ]
  },
  {
   "cell_type": "code",
   "execution_count": 62,
   "id": "bc5cdeaa-a35e-4113-bfc5-3f8cbac9a79a",
   "metadata": {},
   "outputs": [],
   "source": [
    "x=np.linspace(0,1,10)\n",
    "y=x**2"
   ]
  },
  {
   "cell_type": "code",
   "execution_count": 70,
   "id": "fb003f6d-2048-4ccc-96dc-8330972c52c4",
   "metadata": {},
   "outputs": [
    {
     "data": {
      "text/plain": [
       "Text(0, 0.5, 'y')"
      ]
     },
     "execution_count": 70,
     "metadata": {},
     "output_type": "execute_result"
    },
    {
     "data": {
      "image/png": "[encoded data removed]",
      "text/plain": [
       "<Figure size 432x288 with 1 Axes>"
      ]
     },
     "metadata": {
      "needs_background": "light"
     },
     "output_type": "display_data"
    }
   ],
   "source": [
    "plt.plot(x,y, \"ro--\")\n",
    "plt.xlabel('x', fontsize=15)\n",
    "plt.ylabel('y', fontsize=15)"
   ]
  },
  {
   "cell_type": "markdown",
   "id": "190a79fb-9d48-4784-8b44-c31ddfd8fec8",
   "metadata": {},
   "source": [
    "# _forloops_"
   ]
  },
  {
   "cell_type": "markdown",
   "id": "d052e9d8-51a6-4dee-9563-d05db108a5c8",
   "metadata": {},
   "source": [
    "1. Regular loop"
   ]
  },
  {
   "cell_type": "code",
   "execution_count": 71,
   "id": "c816d2cc-1b84-42aa-89ed-de61d37d9c83",
   "metadata": {},
   "outputs": [
    {
     "name": "stdout",
     "output_type": "stream",
     "text": [
      "0\n",
      "1\n",
      "2\n",
      "3\n",
      "4\n"
     ]
    }
   ],
   "source": [
    "for i in range (5):\n",
    "    print(i)"
   ]
  },
  {
   "cell_type": "code",
   "execution_count": 72,
   "id": "8681e69a-4982-45b8-b43f-8fca76ae6c0c",
   "metadata": {},
   "outputs": [],
   "source": [
    "list=[]\n",
    "for i in range(15):\n",
    "    list.append(i**2)"
   ]
  },
  {
   "cell_type": "code",
   "execution_count": 73,
   "id": "40cdb928-a640-44fa-9eee-c1aafbd2508e",
   "metadata": {},
   "outputs": [
    {
     "data": {
      "text/plain": [
       "[0, 1, 4, 9, 16, 25, 36, 49, 64, 81, 100, 121, 144, 169, 196]"
      ]
     },
     "execution_count": 73,
     "metadata": {},
     "output_type": "execute_result"
    }
   ],
   "source": [
    "list"
   ]
  },
  {
   "cell_type": "markdown",
   "id": "6bd4a8e2-3524-4c65-a888-51000a10404b",
   "metadata": {},
   "source": [
    "2. list loop"
   ]
  },
  {
   "cell_type": "code",
   "execution_count": 75,
   "id": "4cc484a0-d5f6-490d-8ee9-6793be78be0f",
   "metadata": {},
   "outputs": [
    {
     "name": "stdout",
     "output_type": "stream",
     "text": [
      "frog\n",
      "cat\n",
      "horse\n"
     ]
    }
   ],
   "source": [
    "list=['frog','cat','horse']\n",
    "for item in list:\n",
    "    print(item)"
   ]
  },
  {
   "cell_type": "markdown",
   "id": "c909f330-c10f-4990-8703-1a5fcef5ff3b",
   "metadata": {},
   "source": [
    "3. Enumeration loo"
   ]
  },
  {
   "cell_type": "code",
   "execution_count": 81,
   "id": "a1e3a740-247b-4c9d-be45-f0c0f7cbfecd",
   "metadata": {},
   "outputs": [
    {
     "name": "stdout",
     "output_type": "stream",
     "text": [
      "Index 0 contain cat\n",
      "Index 1 contain horse\n",
      "Index 2 contain cat\n"
     ]
    }
   ],
   "source": [
    "list= ['cat', 'horse', 'cat']\n",
    "for i, item in enumerate(list):\n",
    "    print('Index {} contain {}'.format(i,item))"
   ]
  },
  {
   "cell_type": "markdown",
   "id": "cbbbb35b-6219-4cd6-9dd8-2e037ccb2126",
   "metadata": {},
   "source": [
    "4. list comprehension loop"
   ]
  },
  {
   "cell_type": "code",
   "execution_count": 82,
   "id": "4a5acd38-3180-46c1-8753-b683c32fb409",
   "metadata": {},
   "outputs": [],
   "source": [
    "list= [i**3 for i in range(15)]"
   ]
  },
  {
   "cell_type": "code",
   "execution_count": 83,
   "id": "fd00327f-ad62-4a53-8c9c-8ebc952e0baf",
   "metadata": {},
   "outputs": [
    {
     "data": {
      "text/plain": [
       "[0, 1, 8, 27, 64, 125, 216, 343, 512, 729, 1000, 1331, 1728, 2197, 2744]"
      ]
     },
     "execution_count": 83,
     "metadata": {},
     "output_type": "execute_result"
    }
   ],
   "source": [
    "list"
   ]
  },
  {
   "cell_type": "markdown",
   "id": "ac641e63-3ff5-498c-ab8c-fc3761887213",
   "metadata": {},
   "source": [
    "5. Double loop"
   ]
  },
  {
   "cell_type": "code",
   "execution_count": 84,
   "id": "bbf82c3b-4cae-496d-8126-600fe8a0a815",
   "metadata": {},
   "outputs": [
    {
     "name": "stdout",
     "output_type": "stream",
     "text": [
      "i=0 j=0\n",
      "i=0 j=1\n",
      "i=0 j=2\n",
      "i=0 j=3\n",
      "i=0 j=4\n",
      "i=1 j=0\n",
      "i=1 j=1\n",
      "i=1 j=2\n",
      "i=1 j=3\n",
      "i=1 j=4\n",
      "i=2 j=0\n",
      "i=2 j=1\n",
      "i=2 j=2\n",
      "i=2 j=3\n",
      "i=2 j=4\n",
      "i=3 j=0\n",
      "i=3 j=1\n",
      "i=3 j=2\n",
      "i=3 j=3\n",
      "i=3 j=4\n",
      "i=4 j=0\n",
      "i=4 j=1\n",
      "i=4 j=2\n",
      "i=4 j=3\n",
      "i=4 j=4\n"
     ]
    }
   ],
   "source": [
    "for i in range (5):\n",
    "    for j in range(5):\n",
    "        print('i={} j={}'.format(i,j))"
   ]
  },
  {
   "cell_type": "markdown",
   "id": "896af4e8-e958-4754-a4d3-f56abc39c2c7",
   "metadata": {},
   "source": [
    "# Booleans and if statements"
   ]
  },
  {
   "cell_type": "code",
   "execution_count": 85,
   "id": "a7b023a0-dedc-4072-b71d-33b6ffcdc0b8",
   "metadata": {},
   "outputs": [],
   "source": [
    "a= True\n",
    "b= False"
   ]
  },
  {
   "cell_type": "code",
   "execution_count": 86,
   "id": "f002bd71-4624-47d8-8862-ca54b34a0c9d",
   "metadata": {},
   "outputs": [
    {
     "data": {
      "text/plain": [
       "False"
      ]
     },
     "execution_count": 86,
     "metadata": {},
     "output_type": "execute_result"
    }
   ],
   "source": [
    "a and b"
   ]
  },
  {
   "cell_type": "code",
   "execution_count": 87,
   "id": "43d7585a-098e-4ca2-a2ba-571dd1b83901",
   "metadata": {},
   "outputs": [
    {
     "data": {
      "text/plain": [
       "True"
      ]
     },
     "execution_count": 87,
     "metadata": {},
     "output_type": "execute_result"
    }
   ],
   "source": [
    "a or b"
   ]
  },
  {
   "cell_type": "code",
   "execution_count": 88,
   "id": "050a57f1-cff6-4536-ae1d-d88c08b93e3f",
   "metadata": {},
   "outputs": [
    {
     "data": {
      "text/plain": [
       "True"
      ]
     },
     "execution_count": 88,
     "metadata": {},
     "output_type": "execute_result"
    }
   ],
   "source": [
    "a and not b"
   ]
  },
  {
   "cell_type": "markdown",
   "id": "a1441444-fe8f-449e-a00c-575b7fa22629",
   "metadata": {},
   "source": [
    " if statement"
   ]
  },
  {
   "cell_type": "code",
   "execution_count": 89,
   "id": "f2053d2b-f2de-4517-bd16-270d53750403",
   "metadata": {},
   "outputs": [
    {
     "name": "stdout",
     "output_type": "stream",
     "text": [
      "yes\n"
     ]
    }
   ],
   "source": [
    "if a:\n",
    "    print('yes')"
   ]
  },
  {
   "cell_type": "code",
   "execution_count": 90,
   "id": "722ab947-a3b1-41f5-98aa-910cf84c15d1",
   "metadata": {},
   "outputs": [
    {
     "name": "stdout",
     "output_type": "stream",
     "text": [
      "yes\n"
     ]
    }
   ],
   "source": [
    "if a or b:\n",
    "    print ('yes')"
   ]
  },
  {
   "cell_type": "code",
   "execution_count": 91,
   "id": "730264a4-2a2d-4ad3-bec1-26ba9c2c9d65",
   "metadata": {},
   "outputs": [
    {
     "name": "stdout",
     "output_type": "stream",
     "text": [
      "no\n"
     ]
    }
   ],
   "source": [
    "if a and not(b):\n",
    "    print('no')"
   ]
  },
  {
   "cell_type": "code",
   "execution_count": 92,
   "id": "c71b5825-ee5c-4170-b87a-aa97bcab0d21",
   "metadata": {},
   "outputs": [],
   "source": [
    "i=0"
   ]
  },
  {
   "cell_type": "code",
   "execution_count": 93,
   "id": "91bd12eb-2ea7-4985-8c0d-26ccd61c5101",
   "metadata": {},
   "outputs": [],
   "source": [
    "a= i==0"
   ]
  },
  {
   "cell_type": "code",
   "execution_count": 94,
   "id": "c99ca8bd-57bf-4c3a-907d-433013e0acf0",
   "metadata": {},
   "outputs": [
    {
     "data": {
      "text/plain": [
       "True"
      ]
     },
     "execution_count": 94,
     "metadata": {},
     "output_type": "execute_result"
    }
   ],
   "source": [
    "a"
   ]
  },
  {
   "cell_type": "code",
   "execution_count": 97,
   "id": "93f64e04-ac9a-4f9c-a6b3-cd4e1075a239",
   "metadata": {},
   "outputs": [],
   "source": [
    "if i!=0:\n",
    "    print('yes')"
   ]
  },
  {
   "cell_type": "code",
   "execution_count": 99,
   "id": "24306844-33f9-45f5-b805-d245bf3a0ce4",
   "metadata": {},
   "outputs": [
    {
     "name": "stdout",
     "output_type": "stream",
     "text": [
      "yes\n"
     ]
    }
   ],
   "source": [
    "i=1\n",
    "j=0\n",
    "if i!=1 or j==0:\n",
    "    print ('yes')"
   ]
  },
  {
   "cell_type": "code",
   "execution_count": 100,
   "id": "a7fd1dea-1162-4182-9692-13f199f68bce",
   "metadata": {},
   "outputs": [
    {
     "name": "stdout",
     "output_type": "stream",
     "text": [
      "yes\n"
     ]
    }
   ],
   "source": [
    "if 'a' in 'cat':\n",
    "    print ('yes')"
   ]
  },
  {
   "cell_type": "code",
   "execution_count": 101,
   "id": "221c2736-4390-4b41-af87-3b2aabbe1180",
   "metadata": {},
   "outputs": [],
   "source": [
    "if 'dt' in 'cat':\n",
    "    print ('yes')"
   ]
  },
  {
   "cell_type": "code",
   "execution_count": 104,
   "id": "eee36764-226e-44cb-a9bb-b0d5d5f96112",
   "metadata": {},
   "outputs": [
    {
     "name": "stdout",
     "output_type": "stream",
     "text": [
      "not\n"
     ]
    }
   ],
   "source": [
    "if 'd' in 'cat':\n",
    "    print ('yes')\n",
    "else:\n",
    "    print('not')"
   ]
  },
  {
   "cell_type": "code",
   "execution_count": 106,
   "id": "cee32c6d-9b52-41f4-9984-b57102bd0087",
   "metadata": {},
   "outputs": [
    {
     "name": "stdout",
     "output_type": "stream",
     "text": [
      "Only condition 1 is tre\n"
     ]
    }
   ],
   "source": [
    "i=0\n",
    "if 'a' in 'cat' and i==1:\n",
    "    print('yes')\n",
    "elif 'a'in 'cat':\n",
    "    print('Only condition 1 is tre')\n",
    "else:\n",
    "    print('no')"
   ]
  },
  {
   "cell_type": "markdown",
   "id": "647d0195-e88a-4d27-99d5-0415c42c0b27",
   "metadata": {},
   "source": [
    "# Problem"
   ]
  },
  {
   "cell_type": "markdown",
   "id": "4414503b-293e-4a4f-99c2-2a6275212218",
   "metadata": {},
   "source": [
    "## problem 1"
   ]
  },
  {
   "cell_type": "code",
   "execution_count": 113,
   "id": "914e59fe-cf38-4a7b-bd3a-58afc79f0013",
   "metadata": {},
   "outputs": [],
   "source": [
    "t = np.linspace(0,2,100)\n",
    "g=9.81\n",
    "v0_j= 10\n",
    "v0_m=15"
   ]
  },
  {
   "cell_type": "code",
   "execution_count": 115,
   "id": "9d1af6bd-e8ca-402d-8ba6-963889dd851f",
   "metadata": {},
   "outputs": [],
   "source": [
    "y_j =-1/2*g*t**2 +v0_j\n",
    "y_m =-1/2*g*t**2 +v0_m"
   ]
  },
  {
   "cell_type": "code",
   "execution_count": 120,
   "id": "fb623b54-d2ab-460f-ba7c-c71f3673148b",
   "metadata": {},
   "outputs": [
    {
     "data": {
      "text/plain": [
       "<matplotlib.legend.Legend at 0x27befd46f10>"
      ]
     },
     "execution_count": 120,
     "metadata": {},
     "output_type": "execute_result"
    },
    {
     "data": {
      "image/png": "[encoded data removed]",
      "text/plain": [
       "<Figure size 432x288 with 1 Axes>"
      ]
     },
     "metadata": {
      "needs_background": "light"
     },
     "output_type": "display_data"
    }
   ],
   "source": [
    "plt.plot(t,y_j, label= \"jim\")\n",
    "plt.plot(t,y_m, label= 'mark')\n",
    "plt.xlabel('Time')\n",
    "plt.ylabel('Height')\n",
    "plt.grid()\n",
    "plt.legend()"
   ]
  },
  {
   "cell_type": "markdown",
   "id": "e952bedb-6cd3-4d74-9bb2-abee7344a887",
   "metadata": {},
   "source": [
    "## problem 2"
   ]
  },
  {
   "cell_type": "markdown",
   "id": "09216654-a50e-4940-ae53-cab37365444b",
   "metadata": {},
   "source": [
    "The poem below is organized such that each poem line is a new element in the list\n",
    "\n",
    "poem=['when day comes we ask ourselves,',\\\n",
    "    'where can we find light in this never-ending shade?',\\\n",
    "    'the loss we carry,',\\\n",
    "    'a sea we must wade',\\\n",
    "    \"we've braved the belly of the beast\",\\\n",
    "    \"we've learned that quiet isn't always peace\",\\\n",
    "    \"and the norms and notions\",\\\n",
    "    \"of what just is\"]\n",
    "\n",
    "Loop through the lines of the poem, and if the line contains the substring 'we', then print 'line __ contains we' where '__' is the line number.\n"
   ]
  },
  {
   "cell_type": "code",
   "execution_count": 121,
   "id": "2197f644-2454-4fac-8092-8bf5e6700836",
   "metadata": {},
   "outputs": [
    {
     "name": "stdout",
     "output_type": "stream",
     "text": [
      "Line 0 contains we\n",
      "Line 1 contains we\n",
      "Line 2 contains we\n",
      "Line 3 contains we\n",
      "Line 4 contains we\n",
      "Line 5 contains we\n"
     ]
    }
   ],
   "source": [
    "\n",
    "poem=['when day comes we ask ourselves,',\n",
    "    'where can we find light in this never-ending shade?',\n",
    "    'the loss we carry,',\n",
    "    'a sea we must wade',\n",
    "    \"we've braved the belly of the beast\",\n",
    "    \"we've learned that quiet isn't always peace\",\n",
    "    \"and the norms and notions\",\n",
    "    \"of what just is\"]\n",
    "for i, line in enumerate(poem):\n",
    "    if 'we' in line:\n",
    "        print('Line {} contains we'.format(i))"
   ]
  },
  {
   "cell_type": "markdown",
   "id": "c7bc0559-e9d0-4239-96e2-5e347ccc54a8",
   "metadata": {},
   "source": [
    "## problem 3"
   ]
  },
  {
   "cell_type": "code",
   "execution_count": 131,
   "id": "84fca448-70eb-4fa3-a8fc-6cb0d5490979",
   "metadata": {},
   "outputs": [],
   "source": [
    "summation = 0\n",
    "for i in range(100000):\n",
    "    if not(i%4==0) and not(i%6==0):\n",
    "        summation = summation+i"
   ]
  },
  {
   "cell_type": "code",
   "execution_count": 132,
   "id": "0f5bd9a2-22d4-403e-93e6-a44e82f06a15",
   "metadata": {},
   "outputs": [
    {
     "data": {
      "text/plain": [
       "3333366666"
      ]
     },
     "execution_count": 132,
     "metadata": {},
     "output_type": "execute_result"
    }
   ],
   "source": [
    "summation"
   ]
  },
  {
   "cell_type": "code",
   "execution_count": null,
   "id": "238f3417-2c87-4630-a858-80974f80649f",
   "metadata": {},
   "outputs": [],
   "source": []
  }
 ],
 "metadata": {
  "kernelspec": {
   "display_name": "Python 3",
   "language": "python",
   "name": "python3"
  },
  "language_info": {
   "codemirror_mode": {
    "name": "ipython",
    "version": 3
   },
   "file_extension": ".py",
   "mimetype": "text/x-python",
   "name": "python",
   "nbconvert_exporter": "python",
   "pygments_lexer": "ipython3",
   "version": "3.8.8"
  }
 },
 "nbformat": 4,
 "nbformat_minor": 5
}
