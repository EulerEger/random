{
 "cells": [
  {
   "cell_type": "code",
   "execution_count": 3,
   "id": "e607df1e-5713-4ae6-aeaa-d5fa944c49af",
   "metadata": {},
   "outputs": [],
   "source": [
    "import numpy as np\n",
    "import matplotlib.pyplot as plt"
   ]
  },
  {
   "cell_type": "markdown",
   "id": "807cc2d5-6c3a-4a29-a913-31cdf3831b02",
   "metadata": {},
   "source": [
    "# Array"
   ]
  },
  {
   "cell_type": "markdown",
   "id": "719cc128-416d-497f-b2dc-c2ad9e473879",
   "metadata": {},
   "source": [
    "### Creating Array"
   ]
  },
  {
   "cell_type": "code",
   "execution_count": 17,
   "id": "57d22dde-56a4-4695-8907-608413110e3f",
   "metadata": {},
   "outputs": [],
   "source": [
    "a1= np.array([3,5,7,3])\n",
    "a2=np.zeros(10)\n",
    "a3=np.ones(5)\n",
    "a4=np.random.random(10)\n",
    "a5=np.random.randn(10)\n",
    "a6=np.linspace(0,10,10)\n",
    "a7=np.arange(0,10,0.2)"
   ]
  },
  {
   "cell_type": "code",
   "execution_count": 18,
   "id": "6aef9791-1a30-4b0b-803a-922bdfa42c7a",
   "metadata": {},
   "outputs": [
    {
     "data": {
      "text/plain": [
       "array([3, 5, 7, 3])"
      ]
     },
     "execution_count": 18,
     "metadata": {},
     "output_type": "execute_result"
    }
   ],
   "source": [
    "a1"
   ]
  },
  {
   "cell_type": "code",
   "execution_count": 19,
   "id": "3ad86d5e-831e-4f4e-b645-5a4eea96bb25",
   "metadata": {},
   "outputs": [
    {
     "data": {
      "text/plain": [
       "array([0., 0., 0., 0., 0., 0., 0., 0., 0., 0.])"
      ]
     },
     "execution_count": 19,
     "metadata": {},
     "output_type": "execute_result"
    }
   ],
   "source": [
    "a2"
   ]
  },
  {
   "cell_type": "code",
   "execution_count": 20,
   "id": "fa944b55-87ae-4d31-a36a-6d25794e1d84",
   "metadata": {},
   "outputs": [
    {
     "data": {
      "text/plain": [
       "array([1., 1., 1., 1., 1.])"
      ]
     },
     "execution_count": 20,
     "metadata": {},
     "output_type": "execute_result"
    }
   ],
   "source": [
    "a3"
   ]
  },
  {
   "cell_type": "code",
   "execution_count": 21,
   "id": "af4c7879-2c52-46a9-aa01-dafc44b539aa",
   "metadata": {},
   "outputs": [
    {
     "data": {
      "text/plain": [
       "array([2.02902472e-01, 9.49267640e-01, 8.78959306e-01, 4.93941872e-01,\n",
       "       3.47636858e-01, 9.96530227e-01, 5.95025819e-01, 4.67675815e-01,\n",
       "       1.43038725e-04, 8.50841434e-01])"
      ]
     },
     "execution_count": 21,
     "metadata": {},
     "output_type": "execute_result"
    }
   ],
   "source": [
    "a4"
   ]
  },
  {
   "cell_type": "code",
   "execution_count": 22,
   "id": "d827d1ed-4d03-49d5-b31f-3458d51e7fa7",
   "metadata": {},
   "outputs": [
    {
     "data": {
      "text/plain": [
       "array([ 1.36454744,  0.25858564,  0.49447604, -1.47169844, -1.01165712,\n",
       "       -0.52409706, -1.1338553 , -0.01711968,  0.84684085,  0.24791081])"
      ]
     },
     "execution_count": 22,
     "metadata": {},
     "output_type": "execute_result"
    }
   ],
   "source": [
    "a5"
   ]
  },
  {
   "cell_type": "code",
   "execution_count": 23,
   "id": "65d0f3a1-39f8-4760-82eb-48150ec0f0ed",
   "metadata": {},
   "outputs": [
    {
     "data": {
      "text/plain": [
       "array([ 0.        ,  1.11111111,  2.22222222,  3.33333333,  4.44444444,\n",
       "        5.55555556,  6.66666667,  7.77777778,  8.88888889, 10.        ])"
      ]
     },
     "execution_count": 23,
     "metadata": {},
     "output_type": "execute_result"
    }
   ],
   "source": [
    "a6"
   ]
  },
  {
   "cell_type": "code",
   "execution_count": 24,
   "id": "a7ef7033-00f3-4f0d-a453-8aeea6a6f077",
   "metadata": {},
   "outputs": [
    {
     "data": {
      "text/plain": [
       "array([0. , 0.2, 0.4, 0.6, 0.8, 1. , 1.2, 1.4, 1.6, 1.8, 2. , 2.2, 2.4,\n",
       "       2.6, 2.8, 3. , 3.2, 3.4, 3.6, 3.8, 4. , 4.2, 4.4, 4.6, 4.8, 5. ,\n",
       "       5.2, 5.4, 5.6, 5.8, 6. , 6.2, 6.4, 6.6, 6.8, 7. , 7.2, 7.4, 7.6,\n",
       "       7.8, 8. , 8.2, 8.4, 8.6, 8.8, 9. , 9.2, 9.4, 9.6, 9.8])"
      ]
     },
     "execution_count": 24,
     "metadata": {},
     "output_type": "execute_result"
    }
   ],
   "source": [
    "a7"
   ]
  },
  {
   "cell_type": "markdown",
   "id": "ee6aa58e-76b6-4f1b-85aa-eb19474c8ac0",
   "metadata": {},
   "source": [
    "### Array Operation"
   ]
  },
  {
   "cell_type": "code",
   "execution_count": 25,
   "id": "c2f2ccdf-37a7-4181-9c41-63537cb277c5",
   "metadata": {},
   "outputs": [
    {
     "data": {
      "text/plain": [
       "array([ 6, 10, 14,  6])"
      ]
     },
     "execution_count": 25,
     "metadata": {},
     "output_type": "execute_result"
    }
   ],
   "source": [
    "a1*2"
   ]
  },
  {
   "cell_type": "code",
   "execution_count": 26,
   "id": "38c30e4a-2834-4801-affb-cb4104fd4197",
   "metadata": {},
   "outputs": [
    {
     "data": {
      "text/plain": [
       "array([0.33333333, 0.2       , 0.14285714, 0.33333333])"
      ]
     },
     "execution_count": 26,
     "metadata": {},
     "output_type": "execute_result"
    }
   ],
   "source": [
    "1/a1"
   ]
  },
  {
   "cell_type": "code",
   "execution_count": 27,
   "id": "d631edc6-11c4-49fd-83ef-1ce29eedc6fd",
   "metadata": {},
   "outputs": [
    {
     "data": {
      "text/plain": [
       "array([False, False, False, False, False, False, False, False, False,\n",
       "       False])"
      ]
     },
     "execution_count": 27,
     "metadata": {},
     "output_type": "execute_result"
    }
   ],
   "source": [
    "a4>4"
   ]
  },
  {
   "cell_type": "code",
   "execution_count": 28,
   "id": "ae219f0c-86a8-45f2-b650-f87f6ae1be99",
   "metadata": {},
   "outputs": [
    {
     "data": {
      "text/plain": [
       "array([5.33333333, 7.2       , 9.14285714, 5.33333333])"
      ]
     },
     "execution_count": 28,
     "metadata": {},
     "output_type": "execute_result"
    }
   ],
   "source": [
    "1/a1+a1+2"
   ]
  },
  {
   "cell_type": "code",
   "execution_count": 32,
   "id": "0a355fd7-51ab-4b94-9857-d7f0246d5650",
   "metadata": {},
   "outputs": [],
   "source": [
    "x=np.linspace(0,1,100)\n",
    "y=x**3"
   ]
  },
  {
   "cell_type": "code",
   "execution_count": 33,
   "id": "4c7590a1-9664-4599-9e7b-162a91226061",
   "metadata": {},
   "outputs": [
    {
     "data": {
      "text/plain": [
       "[<matplotlib.lines.Line2D at 0x26985692eb0>]"
      ]
     },
     "execution_count": 33,
     "metadata": {},
     "output_type": "execute_result"
    },
    {
     "data": {
      "image/png": "[encoded data removed]",
      "text/plain": [
       "<Figure size 432x288 with 1 Axes>"
      ]
     },
     "metadata": {
      "needs_background": "light"
     },
     "output_type": "display_data"
    }
   ],
   "source": [
    "plt.plot(x,y)"
   ]
  },
  {
   "cell_type": "code",
   "execution_count": 34,
   "id": "404ec718-6bc3-4d8a-817e-cddbe22ea0ef",
   "metadata": {},
   "outputs": [
    {
     "data": {
      "text/plain": [
       "(array([1., 0., 1., 1., 2., 1., 0., 0., 2., 2.]),\n",
       " array([1.43038725e-04, 9.97817575e-02, 1.99420476e-01, 2.99059195e-01,\n",
       "        3.98697914e-01, 4.98336633e-01, 5.97975351e-01, 6.97614070e-01,\n",
       "        7.97252789e-01, 8.96891508e-01, 9.96530227e-01]),\n",
       " <BarContainer object of 10 artists>)"
      ]
     },
     "execution_count": 34,
     "metadata": {},
     "output_type": "execute_result"
    },
    {
     "data": {
      "image/png": "[encoded data removed]",
      "text/plain": [
       "<Figure size 432x288 with 1 Axes>"
      ]
     },
     "metadata": {
      "needs_background": "light"
     },
     "output_type": "display_data"
    }
   ],
   "source": [
    "plt.hist(a4)"
   ]
  },
  {
   "cell_type": "code",
   "execution_count": 39,
   "id": "7453a8c8-5c88-4ce6-bbb6-7147f83dea7a",
   "metadata": {},
   "outputs": [],
   "source": [
    "def f(x):\n",
    "    return x**2*np.sin(x)*np.exp(x)\n",
    "x=np.linspace(0,10,100)\n",
    "y=f(x)"
   ]
  },
  {
   "cell_type": "code",
   "execution_count": 40,
   "id": "c9acea69-44e4-4949-a649-32c7e8a09de9",
   "metadata": {},
   "outputs": [
    {
     "data": {
      "text/plain": [
       "[<matplotlib.lines.Line2D at 0x2698585c460>]"
      ]
     },
     "execution_count": 40,
     "metadata": {},
     "output_type": "execute_result"
    },
    {
     "data": {
      "image/png": "[encoded data removed]",
      "text/plain": [
       "<Figure size 432x288 with 1 Axes>"
      ]
     },
     "metadata": {
      "needs_background": "light"
     },
     "output_type": "display_data"
    }
   ],
   "source": [
    "plt.plot(x,y)"
   ]
  },
  {
   "cell_type": "markdown",
   "id": "5fce6065-5d3a-4eb3-bb08-2d49c4c46ab3",
   "metadata": {},
   "source": [
    "### Array Inndexing/Slicing"
   ]
  },
  {
   "cell_type": "code",
   "execution_count": 43,
   "id": "83510ef0-a8bb-4cd3-8c7b-1b144bce63f9",
   "metadata": {},
   "outputs": [
    {
     "data": {
      "text/plain": [
       "array([ 2,  4,  6,  8, 10])"
      ]
     },
     "execution_count": 43,
     "metadata": {},
     "output_type": "execute_result"
    }
   ],
   "source": [
    "a1=np.array([2,4,6,8,10])\n",
    "a1"
   ]
  },
  {
   "cell_type": "code",
   "execution_count": 46,
   "id": "badc1a2c-f108-4ff7-8d8b-7428bb2416e7",
   "metadata": {},
   "outputs": [
    {
     "data": {
      "text/plain": [
       "6"
      ]
     },
     "execution_count": 46,
     "metadata": {},
     "output_type": "execute_result"
    }
   ],
   "source": [
    "a1[2]"
   ]
  },
  {
   "cell_type": "code",
   "execution_count": 47,
   "id": "f5fd8aae-7749-4500-b046-472de9c97740",
   "metadata": {},
   "outputs": [
    {
     "data": {
      "text/plain": [
       "array([ 6,  8, 10])"
      ]
     },
     "execution_count": 47,
     "metadata": {},
     "output_type": "execute_result"
    }
   ],
   "source": [
    "a1[2:]"
   ]
  },
  {
   "cell_type": "code",
   "execution_count": 48,
   "id": "646338bd-182b-4379-9156-c59080057fbb",
   "metadata": {},
   "outputs": [
    {
     "data": {
      "text/plain": [
       "array([2, 4, 6])"
      ]
     },
     "execution_count": 48,
     "metadata": {},
     "output_type": "execute_result"
    }
   ],
   "source": [
    "a1[:-2]"
   ]
  },
  {
   "cell_type": "code",
   "execution_count": 49,
   "id": "f7e6ade1-39c3-4237-b1cc-5821d42e9471",
   "metadata": {},
   "outputs": [
    {
     "data": {
      "text/plain": [
       "array([4, 6])"
      ]
     },
     "execution_count": 49,
     "metadata": {},
     "output_type": "execute_result"
    }
   ],
   "source": [
    "a1[1:-2]"
   ]
  },
  {
   "cell_type": "code",
   "execution_count": 50,
   "id": "8162f909-d303-402d-92fb-08043ef8fecd",
   "metadata": {},
   "outputs": [
    {
     "data": {
      "text/plain": [
       "array([ 4,  6,  8, 10])"
      ]
     },
     "execution_count": 50,
     "metadata": {},
     "output_type": "execute_result"
    }
   ],
   "source": [
    "a1[a1>3]"
   ]
  },
  {
   "cell_type": "code",
   "execution_count": 52,
   "id": "eb73e131-c864-4758-8398-06832a71f894",
   "metadata": {},
   "outputs": [],
   "source": [
    "names=np.array(['jim','luke','josh','pete'])\n",
    "first_name_j=np.vectorize(lambda s: s[0])(names)=='j'\n",
    "names[first_name_j]"
   ]
  },
  {
   "cell_type": "code",
   "execution_count": 70,
   "id": "2a9c87c0-6bcc-4d21-969b-a2ad3bcafb22",
   "metadata": {},
   "outputs": [
    {
     "data": {
      "text/plain": [
       "array([4, 8])"
      ]
     },
     "execution_count": 70,
     "metadata": {},
     "output_type": "execute_result"
    }
   ],
   "source": [
    "a1[a1%4==0]"
   ]
  },
  {
   "cell_type": "code",
   "execution_count": 71,
   "id": "275e9633-2b7f-4dac-bbc6-595089c64770",
   "metadata": {},
   "outputs": [
    {
     "data": {
      "text/plain": [
       "array([ 2,  4,  6,  8, 10])"
      ]
     },
     "execution_count": 71,
     "metadata": {},
     "output_type": "execute_result"
    }
   ],
   "source": [
    "a1"
   ]
  },
  {
   "cell_type": "markdown",
   "id": "ff9aa5cd-9154-46d7-8210-6b3b3f01b7ca",
   "metadata": {},
   "source": [
    "# Calculus / Statistical Function"
   ]
  },
  {
   "cell_type": "code",
   "execution_count": 72,
   "id": "499564c4-09b1-4981-8ef1-37ba735d65be",
   "metadata": {},
   "outputs": [],
   "source": [
    "a1=2*np.random.randn(10000)+10"
   ]
  },
  {
   "cell_type": "code",
   "execution_count": 73,
   "id": "80d67579-d03f-49cc-955e-3452a914cbd6",
   "metadata": {},
   "outputs": [
    {
     "data": {
      "text/plain": [
       "array([12.09274133,  7.61379603, 11.04742418, ...,  9.11900723,\n",
       "        7.79088975,  8.63099997])"
      ]
     },
     "execution_count": 73,
     "metadata": {},
     "output_type": "execute_result"
    }
   ],
   "source": [
    "a1"
   ]
  },
  {
   "cell_type": "markdown",
   "id": "3fe43934-3f61-4494-b933-8b5137885eff",
   "metadata": {},
   "source": [
    "Mean, standard deviation, and percentiles of array"
   ]
  },
  {
   "cell_type": "code",
   "execution_count": 74,
   "id": "a2898ce1-ba29-4728-a1af-35f93caa4595",
   "metadata": {},
   "outputs": [
    {
     "data": {
      "text/plain": [
       "9.970621127237994"
      ]
     },
     "execution_count": 74,
     "metadata": {},
     "output_type": "execute_result"
    }
   ],
   "source": [
    "np.mean(a1)"
   ]
  },
  {
   "cell_type": "code",
   "execution_count": 75,
   "id": "76e19383-105f-45a0-9de5-65df11d3d4c6",
   "metadata": {},
   "outputs": [
    {
     "data": {
      "text/plain": [
       "2.0151755423265234"
      ]
     },
     "execution_count": 75,
     "metadata": {},
     "output_type": "execute_result"
    }
   ],
   "source": [
    "np.std(a1)"
   ]
  },
  {
   "cell_type": "markdown",
   "id": "ddb52875-800f-46ae-ba07-c432f6cdc812",
   "metadata": {},
   "source": [
    "Integrals and Derivatives"
   ]
  },
  {
   "cell_type": "code",
   "execution_count": 76,
   "id": "e6faf959-2357-4864-8a96-018eed37e1fb",
   "metadata": {},
   "outputs": [
    {
     "data": {
      "text/plain": [
       "11.673889311923267"
      ]
     },
     "execution_count": 76,
     "metadata": {},
     "output_type": "execute_result"
    }
   ],
   "source": [
    "np.percentile(a1,80)"
   ]
  },
  {
   "cell_type": "markdown",
   "id": "3341267f-0e3a-461b-8b60-978eb79ad737",
   "metadata": {},
   "source": [
    "Integral and Derivatives"
   ]
  },
  {
   "cell_type": "code",
   "execution_count": 91,
   "id": "ec83b8fd-c5a9-41cc-b4cd-19f83140adb3",
   "metadata": {},
   "outputs": [],
   "source": [
    "x=np.linspace(1,10,100)\n",
    "y=1/x**2*np.sin(x)\n",
    "dydx=np.gradient(y, x)\n",
    "y_int=np.cumsum(y)*(x[1]-x[0])"
   ]
  },
  {
   "cell_type": "code",
   "execution_count": 92,
   "id": "bbb1431b-60c8-4a4a-ae17-e21b238ad156",
   "metadata": {},
   "outputs": [
    {
     "data": {
      "text/plain": [
       "[<matplotlib.lines.Line2D at 0x26985a352e0>]"
      ]
     },
     "execution_count": 92,
     "metadata": {},
     "output_type": "execute_result"
    },
    {
     "data": {
      "image/png": "[encoded data removed]",
      "text/plain": [
       "<Figure size 432x288 with 1 Axes>"
      ]
     },
     "metadata": {
      "needs_background": "light"
     },
     "output_type": "display_data"
    }
   ],
   "source": [
    "plt.plot(x,y)\n",
    "plt.plot(x,dydx)\n",
    "plt.plot(x,y_int)"
   ]
  },
  {
   "cell_type": "code",
   "execution_count": 93,
   "id": "0b569e89-b695-41d3-ae56-8f499e32ff21",
   "metadata": {},
   "outputs": [
    {
     "data": {
      "text/plain": [
       "array([ 1,  3,  6, 10], dtype=int32)"
      ]
     },
     "execution_count": 93,
     "metadata": {},
     "output_type": "execute_result"
    }
   ],
   "source": [
    "np.cumsum(np.array([1,2,3,4]))"
   ]
  },
  {
   "cell_type": "markdown",
   "id": "a96ac7dd-d86c-4b60-8ce1-a3e2dcf4a090",
   "metadata": {},
   "source": [
    "# Exaples\n",
    "Question 1:\n",
    "Let $y=e^{-x/10} \\sin(x)$. Consider 10000 $x$ intervals in the range $[0,10]$\n",
    "\n",
    "1. Plot the function $y$ vs. $x$  in the range .\n",
    "2. Compute the mean and standard deviation of $y$ for $x$ values in $[4,7]$.\n",
    "3. For $x$ in the range$[4,7]$ , find the value $y_m$ such that 80% of $y$ values are less than $y_m$.\n",
    "4. Plot $\\frac{dy}{dx}$ vs $x$.\n",
    "5. Find the locations where $\\frac{dy}{dx}=0$. "
   ]
  },
  {
   "cell_type": "code",
   "execution_count": 94,
   "id": "066e5c83-411b-46dc-a7e0-9cc146de4b11",
   "metadata": {},
   "outputs": [
    {
     "data": {
      "text/plain": [
       "[<matplotlib.lines.Line2D at 0x26985a913d0>]"
      ]
     },
     "execution_count": 94,
     "metadata": {},
     "output_type": "execute_result"
    },
    {
     "data": {
      "image/png": "[encoded data removed]",
      "text/plain": [
       "<Figure size 432x288 with 1 Axes>"
      ]
     },
     "metadata": {
      "needs_background": "light"
     },
     "output_type": "display_data"
    }
   ],
   "source": [
    "#1\n",
    "N=10000\n",
    "x=np.linspace(0,10,N+1)\n",
    "y=np.exp(-x/10)*np.sin(x)\n",
    "plt.plot(x,y)"
   ]
  },
  {
   "cell_type": "code",
   "execution_count": 99,
   "id": "da0c502e-999f-42ca-9af7-860e83488e73",
   "metadata": {},
   "outputs": [
    {
     "data": {
      "text/plain": [
       "0.31448753875085117"
      ]
     },
     "execution_count": 99,
     "metadata": {},
     "output_type": "execute_result"
    }
   ],
   "source": [
    "#2\n",
    "np.mean(y[(x>=4)*(x<=7)])\n",
    "np.std(y[(x>=4)*(x<=7)])"
   ]
  },
  {
   "cell_type": "code",
   "execution_count": 103,
   "id": "9ea77488-f549-416b-9a0c-48f053df3a6a",
   "metadata": {},
   "outputs": [
    {
     "data": {
      "text/plain": [
       "0.06145551274590662"
      ]
     },
     "execution_count": 103,
     "metadata": {},
     "output_type": "execute_result"
    }
   ],
   "source": [
    "#3\n",
    "np.percentile(y[(x>=4)*(x<=7)],80)"
   ]
  },
  {
   "cell_type": "code",
   "execution_count": 104,
   "id": "22c6ee8a-5817-478f-b6a5-7af94164f0a2",
   "metadata": {},
   "outputs": [
    {
     "data": {
      "text/plain": [
       "[<matplotlib.lines.Line2D at 0x26985af23a0>]"
      ]
     },
     "execution_count": 104,
     "metadata": {},
     "output_type": "execute_result"
    },
    {
     "data": {
      "image/png": "[encoded data removed]",
      "text/plain": [
       "<Figure size 432x288 with 1 Axes>"
      ]
     },
     "metadata": {
      "needs_background": "light"
     },
     "output_type": "display_data"
    }
   ],
   "source": [
    "#4\n",
    "plt.plot(x,np.gradient(y,x))"
   ]
  },
  {
   "cell_type": "code",
   "execution_count": 111,
   "id": "5f769b57-7e5b-42dc-b96f-926c81a7cb46",
   "metadata": {},
   "outputs": [
    {
     "data": {
      "text/plain": [
       "array([1.472, 4.613, 7.755])"
      ]
     },
     "execution_count": 111,
     "metadata": {},
     "output_type": "execute_result"
    }
   ],
   "source": [
    "#5\n",
    "dydx=np.gradient(y,x)\n",
    "x[1:][dydx[1:]*dydx[:-1]<0]"
   ]
  },
  {
   "cell_type": "markdown",
   "id": "72cab0e7-f733-4a6c-8b4d-4b68eb9a49e5",
   "metadata": {},
   "source": [
    "## Question 2:\n",
    "Sum together every number from 0 to 10000 except for those than can be divided by 4 or 7. Do this in one line of code."
   ]
  },
  {
   "cell_type": "code",
   "execution_count": 120,
   "id": "7c172ed6-d4f0-4b5b-a350-9d85a28b0b6c",
   "metadata": {},
   "outputs": [
    {
     "data": {
      "text/plain": [
       "32147142"
      ]
     },
     "execution_count": 120,
     "metadata": {},
     "output_type": "execute_result"
    }
   ],
   "source": [
    "nums=np.arange(0,10000,1)\n",
    "sum(nums[(nums%4 !=0)*(nums%7 !=0)])"
   ]
  },
  {
   "cell_type": "markdown",
   "id": "5f20f751-88e3-4e6d-aa5c-f5dffb908677",
   "metadata": {},
   "source": [
    "## Question 3:\n",
    "\n",
    "Consider the flower petal $r(\\theta) = 1+ \\frac{3}{4}sin(3\\theta)$ for $0 \\leq \\theta \\leq \\pi$\n",
    "\n",
    "1. Make a plot of the flower (find x and y points).\n",
    "2. Compute the area using the calculus formula $A = \\int_{0}^{2\\pi} \\frac{1}{2} r^2 d\\theta$ \n",
    " \n",
    "3. Compute the arclength using the calculus formula \n",
    "$L = \\int_{0}^{2 \\pi} \\sqrt{r^2 + \\left(\\frac{dr}{d\\theta}\\right)^2}$"
   ]
  },
  {
   "cell_type": "code",
   "execution_count": 5,
   "id": "63076827-6665-4092-8c02-4478e5e8557e",
   "metadata": {},
   "outputs": [
    {
     "data": {
      "text/plain": [
       "[<matplotlib.lines.Line2D at 0x25d28b362e0>]"
      ]
     },
     "execution_count": 5,
     "metadata": {},
     "output_type": "execute_result"
    },
    {
     "data": {
      "image/png": "[encoded data removed]",
      "text/plain": [
       "<Figure size 432x288 with 1 Axes>"
      ]
     },
     "metadata": {
      "needs_background": "light"
     },
     "output_type": "display_data"
    }
   ],
   "source": [
    "#1\n",
    "theta= np.linspace(0,2*np.pi,1000)\n",
    "r= 1 + 3/4 * np.sin(3*theta)\n",
    "x=r*np.cos(theta)\n",
    "y=r*np.sin(theta)\n",
    "plt.plot(x,y)"
   ]
  },
  {
   "cell_type": "code",
   "execution_count": 7,
   "id": "f6d835b6-54a1-400f-860b-7b6b31c76abe",
   "metadata": {},
   "outputs": [],
   "source": [
    "#2\n",
    "a= 1/2* sum(r**2)*(theta[1]-theta[0])"
   ]
  },
  {
   "cell_type": "code",
   "execution_count": 10,
   "id": "66195e6a-7ef3-4f34-ad3a-2d40dc67e700",
   "metadata": {},
   "outputs": [
    {
     "data": {
      "text/plain": [
       "11.640021569013872"
      ]
     },
     "execution_count": 10,
     "metadata": {},
     "output_type": "execute_result"
    }
   ],
   "source": [
    "#3\n",
    "sum(np.sqrt(r**2 + np.gradient(r,theta)**2))*(theta[1]-theta[0])"
   ]
  },
  {
   "cell_type": "markdown",
   "id": "9e285b21-3ea2-42a0-bb47-dab5f68f39a6",
   "metadata": {},
   "source": [
    "## Question 4:\n",
    "\n",
    "The power emitted by a blackbody is $P=A \\sigma \\epsilon T^{4}$. After measuring the temperature of a star you find that $T(t) = T_0 \\frac {1}{1+e^{-kt}}$. Plot the total energy emitted by the star as a function of time using the fact that $E(t) = \\int_{t'=0}^{t'=t} P(t') dt'$ \n"
   ]
  },
  {
   "cell_type": "markdown",
   "id": "04604b53-f4b8-4c26-87e9-4098bde3b454",
   "metadata": {},
   "source": [
    "$$\\frac{P}{A\\sigma\\epsilon T_0^4} = \\left( \\frac{1}{1+e^{-kt}} \\right)^4$$"
   ]
  },
  {
   "cell_type": "code",
   "execution_count": 22,
   "id": "8364ff16-e3ae-4bd1-b6b5-7bb6a406c578",
   "metadata": {},
   "outputs": [
    {
     "data": {
      "text/plain": [
       "Text(0.5, 0, '$kt$')"
      ]
     },
     "execution_count": 22,
     "metadata": {},
     "output_type": "execute_result"
    },
    {
     "data": {
      "image/png": "[encoded data removed]",
      "text/plain": [
       "<Figure size 432x288 with 1 Axes>"
      ]
     },
     "metadata": {
      "needs_background": "light"
     },
     "output_type": "display_data"
    }
   ],
   "source": [
    "kt=np.linspace(0,3,100)\n",
    "P= (1/(1+np.exp(-kt)))**4\n",
    "E=np.cumsum(P)*(kt[1]-kt[0])\n",
    "plt.plot(kt,E)\n",
    "plt.ylabel(r'$\\left(\\frac{K}{A \\sigma \\epsilon T_0^4} \\right) E(kt)$',fontsize=15)\n",
    "plt.xlabel('$kt$',fontsize=15)"
   ]
  },
  {
   "cell_type": "markdown",
   "id": "01ad4be3-c46f-4da9-966b-464fabe9a27a",
   "metadata": {},
   "source": [
    "# Multi-Dimentional Array"
   ]
  },
  {
   "cell_type": "markdown",
   "id": "98e907df-582d-4de7-986f-32e472038cda",
   "metadata": {},
   "source": [
    "Creating multi dimentional arrays"
   ]
  },
  {
   "cell_type": "code",
   "execution_count": 28,
   "id": "6184b04c-df8c-407f-9e38-5bb95ae63b46",
   "metadata": {},
   "outputs": [
    {
     "data": {
      "text/plain": [
       "array([[4, 6, 4],\n",
       "       [1, 2, 2],\n",
       "       [6, 8, 7]])"
      ]
     },
     "execution_count": 28,
     "metadata": {},
     "output_type": "execute_result"
    }
   ],
   "source": [
    "a1= np.array([[4,6,4],[1,2,2],[6,8,7]])\n",
    "a1"
   ]
  },
  {
   "cell_type": "markdown",
   "id": "f27bb180-0202-4a4f-bdbf-d670356e3fc7",
   "metadata": {},
   "source": [
    "Operation works in a similar way"
   ]
  },
  {
   "cell_type": "code",
   "execution_count": 32,
   "id": "24e73af5-2396-4541-aaf9-a05f7c9df9c1",
   "metadata": {},
   "outputs": [
    {
     "data": {
      "text/plain": [
       "array([[ 8, 12,  8],\n",
       "       [ 2,  4,  4],\n",
       "       [12, 16, 14]])"
      ]
     },
     "execution_count": 32,
     "metadata": {},
     "output_type": "execute_result"
    }
   ],
   "source": [
    "a1*2"
   ]
  },
  {
   "cell_type": "code",
   "execution_count": 29,
   "id": "1cfa81d0-3c0e-4d2d-b541-0c8b173fb518",
   "metadata": {},
   "outputs": [
    {
     "data": {
      "text/plain": [
       "array([[0.5       , 0.33333333, 0.5       ],\n",
       "       [2.        , 1.        , 1.        ],\n",
       "       [0.33333333, 0.25      , 0.28571429]])"
      ]
     },
     "execution_count": 29,
     "metadata": {},
     "output_type": "execute_result"
    }
   ],
   "source": [
    "2/a1"
   ]
  },
  {
   "cell_type": "markdown",
   "id": "178426e2-ae02-44b7-8e3d-56bce688135f",
   "metadata": {},
   "source": [
    "Can turn n-dimentionak array using `ravel()` method"
   ]
  },
  {
   "cell_type": "code",
   "execution_count": 30,
   "id": "d857d09f-4dcb-4f18-9508-f23e70fc5393",
   "metadata": {},
   "outputs": [
    {
     "data": {
      "text/plain": [
       "array([4, 6, 4, 1, 2, 2, 6, 8, 7])"
      ]
     },
     "execution_count": 30,
     "metadata": {},
     "output_type": "execute_result"
    }
   ],
   "source": [
    "a1.ravel()"
   ]
  },
  {
   "cell_type": "markdown",
   "id": "921a62a6-e923-43e0-b789-df52b4753f12",
   "metadata": {},
   "source": [
    "Boolean Indexing"
   ]
  },
  {
   "cell_type": "code",
   "execution_count": 33,
   "id": "a58d4b88-0c77-4693-bbab-a5e209f0d3a8",
   "metadata": {},
   "outputs": [
    {
     "data": {
      "text/plain": [
       "array([[False,  True, False],\n",
       "       [False, False, False],\n",
       "       [ True,  True,  True]])"
      ]
     },
     "execution_count": 33,
     "metadata": {},
     "output_type": "execute_result"
    }
   ],
   "source": [
    "a1>5"
   ]
  },
  {
   "cell_type": "code",
   "execution_count": 35,
   "id": "cd979518-89f5-47f8-a533-9caf1ea98f02",
   "metadata": {},
   "outputs": [
    {
     "data": {
      "text/plain": [
       "array([[-1.36343921, -0.50516272, -0.47837976],\n",
       "       [-0.12725572,  0.65072632,  0.76700197],\n",
       "       [ 0.60092049,  1.31229238, -0.23013274]])"
      ]
     },
     "execution_count": 35,
     "metadata": {},
     "output_type": "execute_result"
    }
   ],
   "source": [
    "a2=np.random.randn(3,3)\n",
    "a2"
   ]
  },
  {
   "cell_type": "code",
   "execution_count": 37,
   "id": "a1c2dd2f-32a4-4f02-8c72-9e3749a839d9",
   "metadata": {},
   "outputs": [
    {
     "data": {
      "text/plain": [
       "array([-0.50516272,  0.60092049,  1.31229238, -0.23013274])"
      ]
     },
     "execution_count": 37,
     "metadata": {},
     "output_type": "execute_result"
    }
   ],
   "source": [
    "a2[a1>5]"
   ]
  },
  {
   "cell_type": "markdown",
   "id": "a06101d0-821a-459d-9ff3-1a8631699932",
   "metadata": {},
   "source": [
    "Element indexing"
   ]
  },
  {
   "cell_type": "code",
   "execution_count": 41,
   "id": "d3bb18ed-1b9d-4136-9c92-1b3dd2752813",
   "metadata": {},
   "outputs": [
    {
     "data": {
      "text/plain": [
       "array([[4, 6, 4],\n",
       "       [1, 2, 2],\n",
       "       [6, 8, 7]])"
      ]
     },
     "execution_count": 41,
     "metadata": {},
     "output_type": "execute_result"
    }
   ],
   "source": [
    "a1"
   ]
  },
  {
   "cell_type": "code",
   "execution_count": 52,
   "id": "cbc168ec-7625-4a17-a3c9-d64beaeb9fb2",
   "metadata": {},
   "outputs": [
    {
     "data": {
      "text/plain": [
       "array([[1, 2],\n",
       "       [6, 8]])"
      ]
     },
     "execution_count": 52,
     "metadata": {},
     "output_type": "execute_result"
    }
   ],
   "source": [
    "a1[1:,:2]"
   ]
  },
  {
   "cell_type": "markdown",
   "id": "33488abf-c220-438a-9961-ac456553bf9b",
   "metadata": {},
   "source": [
    "### Dealing with 2D funtions"
   ]
  },
  {
   "cell_type": "markdown",
   "id": "23df3ecc-79ba-439e-923a-7a0dd2924013",
   "metadata": {},
   "source": [
    "Funtion in 2 dimensions. try this..."
   ]
  },
  {
   "cell_type": "code",
   "execution_count": 54,
   "id": "7450c596-5e23-4774-b2e3-63ca3bf54f4f",
   "metadata": {},
   "outputs": [
    {
     "ename": "ValueError",
     "evalue": "operands could not be broadcast together with shapes (1000,) (500,) ",
     "output_type": "error",
     "traceback": [
      "\u001b[1;31m---------------------------------------------------------------------------\u001b[0m",
      "\u001b[1;31mValueError\u001b[0m                                Traceback (most recent call last)",
      "\u001b[1;32m<ipython-input-54-5f08be99ae93>\u001b[0m in \u001b[0;36m<module>\u001b[1;34m\u001b[0m\n\u001b[0;32m      1\u001b[0m \u001b[0mx\u001b[0m\u001b[1;33m=\u001b[0m\u001b[0mnp\u001b[0m\u001b[1;33m.\u001b[0m\u001b[0mlinspace\u001b[0m\u001b[1;33m(\u001b[0m\u001b[1;36m0\u001b[0m\u001b[1;33m,\u001b[0m\u001b[1;36m10\u001b[0m\u001b[1;33m,\u001b[0m\u001b[1;36m1000\u001b[0m\u001b[1;33m)\u001b[0m\u001b[1;33m\u001b[0m\u001b[1;33m\u001b[0m\u001b[0m\n\u001b[0;32m      2\u001b[0m \u001b[0my\u001b[0m\u001b[1;33m=\u001b[0m\u001b[0mnp\u001b[0m\u001b[1;33m.\u001b[0m\u001b[0mlinspace\u001b[0m\u001b[1;33m(\u001b[0m\u001b[1;36m0\u001b[0m\u001b[1;33m,\u001b[0m\u001b[1;36m5\u001b[0m\u001b[1;33m,\u001b[0m\u001b[1;36m500\u001b[0m\u001b[1;33m)\u001b[0m\u001b[1;33m\u001b[0m\u001b[1;33m\u001b[0m\u001b[0m\n\u001b[1;32m----> 3\u001b[1;33m \u001b[0mz\u001b[0m\u001b[1;33m=\u001b[0m\u001b[0mx\u001b[0m\u001b[1;33m**\u001b[0m\u001b[1;36m2\u001b[0m\u001b[1;33m+\u001b[0m\u001b[0my\u001b[0m\u001b[1;33m**\u001b[0m\u001b[1;36m2\u001b[0m\u001b[1;33m\u001b[0m\u001b[1;33m\u001b[0m\u001b[0m\n\u001b[0m",
      "\u001b[1;31mValueError\u001b[0m: operands could not be broadcast together with shapes (1000,) (500,) "
     ]
    }
   ],
   "source": [
    "x=np.linspace(0,10,1000)\n",
    "y=np.linspace(0,5,500)\n",
    "z=x**2+y**2"
   ]
  },
  {
   "cell_type": "markdown",
   "id": "b109783d-05a1-4330-8584-af7c85fb92f9",
   "metadata": {},
   "source": [
    "Neeed to use meshgrid"
   ]
  },
  {
   "cell_type": "code",
   "execution_count": 55,
   "id": "b0f2f488-7d96-4d27-89a5-931ad5c319c8",
   "metadata": {},
   "outputs": [],
   "source": [
    "xv,yv =np.meshgrid(x,y)"
   ]
  },
  {
   "cell_type": "code",
   "execution_count": 57,
   "id": "ebf3c49f-2a8e-4c36-be73-55b58d42b1c4",
   "metadata": {},
   "outputs": [],
   "source": [
    "zv=xv**2+yv**2"
   ]
  },
  {
   "cell_type": "code",
   "execution_count": 63,
   "id": "a72f9bbe-ea05-4d9a-a134-3bdeae529123",
   "metadata": {},
   "outputs": [
    {
     "data": {
      "text/plain": [
       "<matplotlib.colorbar.Colorbar at 0x25d2d3b3700>"
      ]
     },
     "execution_count": 63,
     "metadata": {},
     "output_type": "execute_result"
    },
    {
     "data": {
      "image/png": "[encoded data removed]",
      "text/plain": [
       "<Figure size 432x288 with 2 Axes>"
      ]
     },
     "metadata": {
      "needs_background": "light"
     },
     "output_type": "display_data"
    }
   ],
   "source": [
    "plt.contourf(xv,yv,zv, levels=30)\n",
    "plt.colorbar()"
   ]
  },
  {
   "cell_type": "markdown",
   "id": "1dccbb4f-8bab-4094-adad-892c00b4974f",
   "metadata": {},
   "source": [
    "# Basic Lineal Algebra"
   ]
  },
  {
   "cell_type": "markdown",
   "id": "2d921069-bf69-4b9a-8146-07abf737d952",
   "metadata": {},
   "source": [
    "### Matrix operation"
   ]
  },
  {
   "cell_type": "code",
   "execution_count": 64,
   "id": "a099b7b5-5b7b-4871-9c29-86c92ebdae30",
   "metadata": {},
   "outputs": [],
   "source": [
    "A = np.array([[3,2,1],[5,-5,4],[6,0,1]])\n",
    "b1=np.array([1,2,3])\n",
    "b2=np.array([-1,2,-5])"
   ]
  },
  {
   "cell_type": "code",
   "execution_count": 65,
   "id": "576bc0fc-5cc4-4424-a8d8-da9d055aedde",
   "metadata": {},
   "outputs": [
    {
     "data": {
      "text/plain": [
       "array([10,  7,  9])"
      ]
     },
     "execution_count": 65,
     "metadata": {},
     "output_type": "execute_result"
    }
   ],
   "source": [
    "A@b1"
   ]
  },
  {
   "cell_type": "code",
   "execution_count": 67,
   "id": "36f99107-9b00-4831-ab14-499c9b118fc9",
   "metadata": {},
   "outputs": [
    {
     "data": {
      "text/plain": [
       "array([[ 3,  5,  6],\n",
       "       [ 2, -5,  0],\n",
       "       [ 1,  4,  1]])"
      ]
     },
     "execution_count": 67,
     "metadata": {},
     "output_type": "execute_result"
    }
   ],
   "source": [
    "A.T"
   ]
  },
  {
   "cell_type": "code",
   "execution_count": 68,
   "id": "4b73f4e1-7af8-464a-bf59-e4681748951a",
   "metadata": {},
   "outputs": [
    {
     "data": {
      "text/plain": [
       "-12"
      ]
     },
     "execution_count": 68,
     "metadata": {},
     "output_type": "execute_result"
    }
   ],
   "source": [
    "np.dot(b1,b2)"
   ]
  },
  {
   "cell_type": "code",
   "execution_count": 69,
   "id": "95b43d1b-a767-456c-8e5b-6dfa076069dc",
   "metadata": {},
   "outputs": [
    {
     "data": {
      "text/plain": [
       "array([-16,   2,   4])"
      ]
     },
     "execution_count": 69,
     "metadata": {},
     "output_type": "execute_result"
    }
   ],
   "source": [
    "np.cross(b1,b2)"
   ]
  },
  {
   "cell_type": "markdown",
   "id": "c2d02b0f-42ee-488b-9ba9-0f575ec964b5",
   "metadata": {},
   "source": [
    "### systems of Equations\n",
    "\n",
    "\n",
    "$3x + 2y + z =  4\n",
    "\\\\5x - 5y + 4z = 3\n",
    "\\\\6x + z = 0$"
   ]
  },
  {
   "cell_type": "code",
   "execution_count": 70,
   "id": "cf0758a7-5f52-4963-9d23-be6fbc1cf56f",
   "metadata": {},
   "outputs": [
    {
     "data": {
      "text/plain": [
       "array([-0.49056604,  1.26415094,  2.94339623])"
      ]
     },
     "execution_count": 70,
     "metadata": {},
     "output_type": "execute_result"
    }
   ],
   "source": [
    "A=np.array([[3,2,1],[5,-5,4],[6,0,1]])\n",
    "C=np.array([4,3,0])\n",
    "np.linalg.solve(A,C)"
   ]
  },
  {
   "cell_type": "markdown",
   "id": "298a0008-9082-4b22-9fe1-bb0fd4e98d2e",
   "metadata": {},
   "source": [
    "### Finding Eigenvalues"
   ]
  },
  {
   "cell_type": "code",
   "execution_count": 73,
   "id": "f6ad9f11-7330-4ed6-afef-63d084ac72a9",
   "metadata": {},
   "outputs": [],
   "source": [
    "A=np.array([[4,2,2],[2,4,2],[2,2,4]])\n",
    "w,v=np.linalg.eig(A)"
   ]
  },
  {
   "cell_type": "code",
   "execution_count": 75,
   "id": "ecf523ff-2373-4cab-adad-f1f9b973983a",
   "metadata": {},
   "outputs": [
    {
     "data": {
      "text/plain": [
       "array([2., 8., 2.])"
      ]
     },
     "execution_count": 75,
     "metadata": {},
     "output_type": "execute_result"
    }
   ],
   "source": [
    "w"
   ]
  },
  {
   "cell_type": "code",
   "execution_count": 76,
   "id": "a6090497-4e7d-453f-946a-17684c48f85b",
   "metadata": {},
   "outputs": [
    {
     "data": {
      "text/plain": [
       "array([[-0.81649658,  0.57735027, -0.22645541],\n",
       "       [ 0.40824829,  0.57735027, -0.56613852],\n",
       "       [ 0.40824829,  0.57735027,  0.79259392]])"
      ]
     },
     "execution_count": 76,
     "metadata": {},
     "output_type": "execute_result"
    }
   ],
   "source": [
    "v"
   ]
  },
  {
   "cell_type": "code",
   "execution_count": 78,
   "id": "0b0d6662-6d69-4242-815c-12a3aa395bfe",
   "metadata": {},
   "outputs": [
    {
     "data": {
      "text/plain": [
       "array([-0.81649658,  0.40824829,  0.40824829])"
      ]
     },
     "execution_count": 78,
     "metadata": {},
     "output_type": "execute_result"
    }
   ],
   "source": [
    "v1=v[:,0]\n",
    "v1"
   ]
  },
  {
   "cell_type": "code",
   "execution_count": 79,
   "id": "281bcc0e-c63f-457e-b95e-1aa3e9366adc",
   "metadata": {},
   "outputs": [
    {
     "data": {
      "text/plain": [
       "array([-1.63299316,  0.81649658,  0.81649658])"
      ]
     },
     "execution_count": 79,
     "metadata": {},
     "output_type": "execute_result"
    }
   ],
   "source": [
    "A@v1"
   ]
  },
  {
   "cell_type": "code",
   "execution_count": 80,
   "id": "1109e34d-9d4b-4708-bc41-ed6131c218f8",
   "metadata": {},
   "outputs": [
    {
     "data": {
      "text/plain": [
       "array([-1.63299316,  0.81649658,  0.81649658])"
      ]
     },
     "execution_count": 80,
     "metadata": {},
     "output_type": "execute_result"
    }
   ],
   "source": [
    "w[0]*v1"
   ]
  },
  {
   "cell_type": "markdown",
   "id": "fe0ba5ad-80a9-4449-bd2b-324f54937c4d",
   "metadata": {},
   "source": [
    "# Examples"
   ]
  },
  {
   "cell_type": "markdown",
   "id": "4fe2159f-ff82-454e-9d3e-ff86236e8a0e",
   "metadata": {},
   "source": [
    "### Question 1\n",
    "\n",
    "Let $f(x,y) = e^-{x^2+y^2} \\cdot \\sin(x)$ for $-2 \\leq x \\leq 2$ and $-2 \\leq y \\leq 2$\n",
    "\n",
    "1. Make a contour plot of $f$\n",
    "2. Find the volume$|f(x,y)|$ in the specified $x$ and $y$ range\n",
    "3. Find the volume $|f(x,y)|$ only in the region where $\\sqrt{x^2+y^2}>0.5$ \n"
   ]
  },
  {
   "cell_type": "code",
   "execution_count": 90,
   "id": "a280d1b3-4aa9-446a-bcfb-78a6485b041b",
   "metadata": {},
   "outputs": [
    {
     "data": {
      "text/plain": [
       "<matplotlib.colorbar.Colorbar at 0x25d316de8b0>"
      ]
     },
     "execution_count": 90,
     "metadata": {},
     "output_type": "execute_result"
    },
    {
     "data": {
      "image/png": "[encoded data removed]",
      "text/plain": [
       "<Figure size 432x288 with 2 Axes>"
      ]
     },
     "metadata": {
      "needs_background": "light"
     },
     "output_type": "display_data"
    }
   ],
   "source": [
    "#1\n",
    "x=np.linspace(-2,2,1000)\n",
    "y=np.linspace(-2,2,1000)\n",
    "xv,yv = np.meshgrid(x,y)\n",
    "f=np.exp(-(xv**2+yv**2))*np.sin(xv)\n",
    "plt.contourf(xv,yv,f, levels=100)\n",
    "plt.colorbar()"
   ]
  },
  {
   "cell_type": "code",
   "execution_count": 96,
   "id": "185f9c8f-ca98-43c3-b0a0-3ed0decbca3b",
   "metadata": {},
   "outputs": [
    {
     "data": {
      "text/plain": [
       "1.4861858145125453"
      ]
     },
     "execution_count": 96,
     "metadata": {},
     "output_type": "execute_result"
    }
   ],
   "source": [
    "#2\n",
    "sum(np.abs(f.ravel()))*np.diff(x)[0]*np.diff(y)[0]"
   ]
  },
  {
   "cell_type": "code",
   "execution_count": 104,
   "id": "b5ef9e66-3e1f-496e-b002-a788bfeda187",
   "metadata": {},
   "outputs": [
    {
     "data": {
      "text/plain": [
       "1.344765293020408"
      ]
     },
     "execution_count": 104,
     "metadata": {},
     "output_type": "execute_result"
    }
   ],
   "source": [
    "#3\n",
    "sum(np.abs(f[xv**2+yv**2>0.5**2].ravel()))*np.diff(x)[0]*np.diff(y)[0]"
   ]
  },
  {
   "cell_type": "markdown",
   "id": "36330476-d13d-462f-95df-d889807efbf2",
   "metadata": {},
   "source": [
    "### Question 2\n",
    "\n",
    "After examining a circuit full of resistors, you find that the voltage at 4 specified points is given by\n",
    "$\n",
    "3V_1 + 2V_2 + 3V_3 + 10V_4 = 4\\\\\n",
    "2V_1 - 2V_2 + 5V_3 + 8V_4 = 1\\\\\n",
    "3V_1 + 3V_2 + 4V_3 + 9V_4 = 3\\\\\n",
    "3V_1 + 4V_2 - 3V_3 - 7V_4 = 2\\\\\n",
    "$\n",
    "Find all the voltages"
   ]
  },
  {
   "cell_type": "code",
   "execution_count": 105,
   "id": "60aa579e-7a75-4d23-8ae7-f1b835684acc",
   "metadata": {},
   "outputs": [
    {
     "data": {
      "text/plain": [
       "array([ 0.78378378,  0.03603604, -0.67567568,  0.36036036])"
      ]
     },
     "execution_count": 105,
     "metadata": {},
     "output_type": "execute_result"
    }
   ],
   "source": [
    "A=np.array([[3,2,3,10],[2,-2,5,8],[3,3,4,9],[3,4,-3,-7]])\n",
    "C=np.array([4,1,3,2])\n",
    "np.linalg.solve(A,C)"
   ]
  },
  {
   "cell_type": "markdown",
   "id": "e161b5cc-c7af-4519-95ab-8be63e2c4921",
   "metadata": {},
   "source": [
    "###Question 3 (tougher)\n",
    "\n",
    "An electric field is given by \n",
    "$\\vec{E}(z,t)= E_0 \\cos(z-t) \\hat{x} + 2E_0 \\cos(z-t+\\pi/2) \\hat{y}$.\n",
    "\n",
    "1. Find the magnetic field for all $z \\in[4, \\pi]$  and $t \\in [0,10]$ using $c\\vec{B}(z,t)= \\hat{z} \\times \\vec{E}(z,t)$\n",
    "2. Compute the Poynting vector $\\vec{S} = \\vec{E} \\times \\vec{B}$ for all  and "
   ]
  },
  {
   "cell_type": "code",
   "execution_count": 108,
   "id": "7914b622-552b-4009-bd4b-83f89ff482ad",
   "metadata": {},
   "outputs": [
    {
     "data": {
      "text/plain": [
       "[<matplotlib.lines.Line2D at 0x25d31765670>]"
      ]
     },
     "execution_count": 108,
     "metadata": {},
     "output_type": "execute_result"
    },
    {
     "data": {
      "image/png": "[encoded data removed]",
      "text/plain": [
       "<Figure size 432x288 with 1 Axes>"
      ]
     },
     "metadata": {
      "needs_background": "light"
     },
     "output_type": "display_data"
    }
   ],
   "source": [
    "#1\n",
    "z=np.linspace(0,4*np.pi,100)\n",
    "t=np.linspace(0,10,100)\n",
    "\n",
    "tv, zv =np.meshgrid(t,z)\n",
    "Ex =np.cos(zv-tv)\n",
    "Ey =2*np.cos(zv-tv +np.pi/2)\n",
    "Ez =0*tv\n"
   ]
  },
  {
   "cell_type": "code",
   "execution_count": 110,
   "id": "1daeff7b-6239-45e2-9fb3-80cec9ffa3b4",
   "metadata": {},
   "outputs": [
    {
     "data": {
      "text/plain": [
       "[<matplotlib.lines.Line2D at 0x25d317bd7f0>]"
      ]
     },
     "execution_count": 110,
     "metadata": {},
     "output_type": "execute_result"
    },
    {
     "data": {
      "image/png": "[encoded data removed]",
      "text/plain": [
       "<Figure size 432x288 with 1 Axes>"
      ]
     },
     "metadata": {
      "needs_background": "light"
     },
     "output_type": "display_data"
    }
   ],
   "source": []
  },
  {
   "cell_type": "markdown",
   "id": "373fb7ab-6fff-4b73-80ca-789adb228314",
   "metadata": {},
   "source": [
    "$E_(x)$ as funtion of $t$ at $z=0$"
   ]
  },
  {
   "cell_type": "code",
   "execution_count": 114,
   "id": "80d37d7d-2300-4124-a7cc-9a2b21199a1d",
   "metadata": {},
   "outputs": [
    {
     "data": {
      "text/plain": [
       "[<matplotlib.lines.Line2D at 0x25d2f1de6d0>]"
      ]
     },
     "execution_count": 114,
     "metadata": {},
     "output_type": "execute_result"
    },
    {
     "data": {
      "image/png": "[encoded data removed]",
      "text/plain": [
       "<Figure size 432x288 with 1 Axes>"
      ]
     },
     "metadata": {
      "needs_background": "light"
     },
     "output_type": "display_data"
    }
   ],
   "source": [
    "plt.plot(t,Ex[0])\n",
    "plt.plot(t,Ey[0])"
   ]
  },
  {
   "cell_type": "markdown",
   "id": "5eef6f8b-de3d-4b46-9e3f-3e16250a8378",
   "metadata": {},
   "source": [
    "$E_(x)$ as funtion of $z$ at $t=0$"
   ]
  },
  {
   "cell_type": "code",
   "execution_count": 115,
   "id": "a133bcda-f3f0-4535-95db-e19cf4b456ba",
   "metadata": {},
   "outputs": [
    {
     "data": {
      "text/plain": [
       "[<matplotlib.lines.Line2D at 0x25d3196ae50>]"
      ]
     },
     "execution_count": 115,
     "metadata": {},
     "output_type": "execute_result"
    },
    {
     "data": {
      "image/png": "[encoded data removed]",
      "text/plain": [
       "<Figure size 432x288 with 1 Axes>"
      ]
     },
     "metadata": {
      "needs_background": "light"
     },
     "output_type": "display_data"
    }
   ],
   "source": [
    "plt.plot(Ex[:,0])"
   ]
  },
  {
   "cell_type": "code",
   "execution_count": 127,
   "id": "d50b9334-6c3e-4fc9-a3bc-bf62a41caecc",
   "metadata": {},
   "outputs": [],
   "source": [
    "E=np.array([Ex,Ey,Ez])\n",
    "E= np.swapaxes(E,0,-1)"
   ]
  },
  {
   "cell_type": "code",
   "execution_count": 123,
   "id": "0d6f9475-ea94-4572-8b44-1af660436bbc",
   "metadata": {},
   "outputs": [],
   "source": [
    "B=np.cross(np.array([0,0,1]),E)\n",
    "E=np.swapaxes(E,0,-1)\n",
    "B=np.swapaxes(B,0,-1)"
   ]
  },
  {
   "cell_type": "code",
   "execution_count": 133,
   "id": "628534e5-1101-450c-8172-cfad4d0a3e07",
   "metadata": {},
   "outputs": [],
   "source": [
    "Bx, By, Bz = B"
   ]
  },
  {
   "cell_type": "code",
   "execution_count": 126,
   "id": "70b6f8d1-e37a-4992-90ab-b40143282d9f",
   "metadata": {},
   "outputs": [
    {
     "data": {
      "text/plain": [
       "[<matplotlib.lines.Line2D at 0x25d34ceb1f0>]"
      ]
     },
     "execution_count": 126,
     "metadata": {},
     "output_type": "execute_result"
    },
    {
     "data": {
      "image/png": "[encoded data removed]",
      "text/plain": [
       "<Figure size 432x288 with 1 Axes>"
      ]
     },
     "metadata": {
      "needs_background": "light"
     },
     "output_type": "display_data"
    }
   ],
   "source": [
    "plt.plot(t,Ey[0])\n",
    "plt.plot(t,Bx[0])"
   ]
  },
  {
   "cell_type": "code",
   "execution_count": 139,
   "id": "ed5b7b9a-ccc0-479a-80cd-1395b2a0d231",
   "metadata": {},
   "outputs": [],
   "source": [
    "S=np.cross(E,B)\n",
    "S=np.swapaxes(S,0,-1)\n",
    "Sx, Sy, Sz= S"
   ]
  },
  {
   "cell_type": "code",
   "execution_count": 140,
   "id": "9b3ede61-45ec-4ff0-8e53-33cc1602d2a5",
   "metadata": {},
   "outputs": [
    {
     "data": {
      "text/plain": [
       "[<matplotlib.lines.Line2D at 0x25d34d468b0>]"
      ]
     },
     "execution_count": 140,
     "metadata": {},
     "output_type": "execute_result"
    },
    {
     "data": {
      "image/png": "[encoded data removed]",
      "text/plain": [
       "<Figure size 432x288 with 1 Axes>"
      ]
     },
     "metadata": {
      "needs_background": "light"
     },
     "output_type": "display_data"
    }
   ],
   "source": [
    "plt.plot(Sz[0])"
   ]
  },
  {
   "cell_type": "markdown",
   "id": "8b604e28-376c-40ad-89fb-5ddff380144a",
   "metadata": {},
   "source": [
    "### Question 4 (tougher)\n",
    "\n",
    "Find the solutions to $\\left(\\frac{d^2}{dx^2} + (10x)^2\\right)f = \\lambda f$ with boundary conditions $f(0)=f(1)=0$.\n",
    "\n",
    "* use the eigenvalue method and the fact that $\\frac{d^2}{dx^2} \\approx \\frac{f_{i+1} + f_{i-1} - 2f_i}{\\Delta x^2}$ where $f_i=f(i \\Delta x)$ and $i$ is an integer."
   ]
  },
  {
   "cell_type": "code",
   "execution_count": 148,
   "id": "f106492b-9c13-4107-b2e1-6463b26c5af6",
   "metadata": {},
   "outputs": [],
   "source": [
    "N=1000\n",
    "x=np.linspace(0,1,N+1)\n",
    "dx=x[1]-x[0]\n",
    "\n",
    "main_diag = -2*np.ones(N-1)\n",
    "off_diag = np.ones(N-2)\n",
    "derivative_matrix = (np.diag(main_diag) + np.diag(off_diag,-1) + + np.diag(off_diag,1))/dx**2\n",
    "x2_matrix = np.diag((10*x[1:-1])**2)\n",
    "LHS_matrix = derivative_matrix+ x2_matrix"
   ]
  },
  {
   "cell_type": "code",
   "execution_count": 151,
   "id": "87e5edbb-512e-40df-bd75-69318bdc54f6",
   "metadata": {},
   "outputs": [],
   "source": [
    "W, V = np.linalg.eigh(LHS_matrix)"
   ]
  },
  {
   "cell_type": "code",
   "execution_count": 153,
   "id": "ef02a21d-8721-4e1e-8f29-0e7b0cb37fac",
   "metadata": {},
   "outputs": [
    {
     "data": {
      "text/plain": [
       "[<matplotlib.lines.Line2D at 0x25d34dbca60>]"
      ]
     },
     "execution_count": 153,
     "metadata": {},
     "output_type": "execute_result"
    },
    {
     "data": {
      "image/png": "[encoded data removed]",
      "text/plain": [
       "<Figure size 432x288 with 1 Axes>"
      ]
     },
     "metadata": {
      "needs_background": "light"
     },
     "output_type": "display_data"
    }
   ],
   "source": [
    "plt.plot(V[:,-1])\n",
    "plt.plot(V[:,-2])\n",
    "plt.plot(V[:,-3])\n",
    "plt.plot(V[:,-4])"
   ]
  },
  {
   "cell_type": "code",
   "execution_count": 154,
   "id": "5eed9597-aef5-429e-b7b1-9d508746824d",
   "metadata": {},
   "outputs": [
    {
     "data": {
      "text/plain": [
       "29.855323222428808"
      ]
     },
     "execution_count": 154,
     "metadata": {},
     "output_type": "execute_result"
    }
   ],
   "source": [
    "W[-1]"
   ]
  },
  {
   "cell_type": "code",
   "execution_count": 157,
   "id": "1d798f3d-c1ee-4dc2-8eb3-99bbb2a87c13",
   "metadata": {},
   "outputs": [
    {
     "data": {
      "text/plain": [
       "-10.806108653947453"
      ]
     },
     "execution_count": 157,
     "metadata": {},
     "output_type": "execute_result"
    }
   ],
   "source": [
    "W[-2]"
   ]
  },
  {
   "cell_type": "code",
   "execution_count": 158,
   "id": "a8333188-e159-4aa9-9321-66ccfae4a263",
   "metadata": {},
   "outputs": [
    {
     "data": {
      "text/plain": [
       "-58.10082372780382"
      ]
     },
     "execution_count": 158,
     "metadata": {},
     "output_type": "execute_result"
    }
   ],
   "source": [
    "W[-3]"
   ]
  },
  {
   "cell_type": "code",
   "execution_count": 159,
   "id": "6d41453e-4d70-4505-be22-81a1706e33ae",
   "metadata": {},
   "outputs": [
    {
     "data": {
      "text/plain": [
       "-126.12369602073609"
      ]
     },
     "execution_count": 159,
     "metadata": {},
     "output_type": "execute_result"
    }
   ],
   "source": [
    "W[-4]"
   ]
  },
  {
   "cell_type": "markdown",
   "id": "2ed8627f-c7fc-4d33-b01a-305db13e2cec",
   "metadata": {},
   "source": [
    "# Basic Dataset"
   ]
  },
  {
   "cell_type": "code",
   "execution_count": 10,
   "id": "a9143e65-67b3-426d-a7a5-02ccd910803a",
   "metadata": {},
   "outputs": [
    {
     "data": {
      "text/plain": [
       "array([',Person,Height', '1,Jim,172', '2,Mike,168', '3,Bob,182',\n",
       "       '4,Susy,153', '5,Tim,170', '6,Frank,190'], dtype=object)"
      ]
     },
     "execution_count": 10,
     "metadata": {},
     "output_type": "execute_result"
    }
   ],
   "source": [
    "data =np.loadtxt('C:/Users/HP/OneDrive - Universidad Autonoma de Santo Domingo/Programing/Project/Python/Intro/Sample.csv', dtype='object')\n",
    "data"
   ]
  },
  {
   "cell_type": "code",
   "execution_count": 11,
   "id": "22ad3daa-0d0c-4464-a241-416d82a0119b",
   "metadata": {},
   "outputs": [
    {
     "data": {
      "text/plain": [
       "array([['', 'Person', 'Height'],\n",
       "       ['1', 'Jim', '172'],\n",
       "       ['2', 'Mike', '168'],\n",
       "       ['3', 'Bob', '182'],\n",
       "       ['4', 'Susy', '153'],\n",
       "       ['5', 'Tim', '170'],\n",
       "       ['6', 'Frank', '190']], dtype=object)"
      ]
     },
     "execution_count": 11,
     "metadata": {},
     "output_type": "execute_result"
    }
   ],
   "source": [
    "data =np.loadtxt('C:/Users/HP/OneDrive - Universidad Autonoma de Santo Domingo/Programing/Project/Python/Intro/Sample.csv', dtype='object',delimiter=',')\n",
    "data"
   ]
  },
  {
   "cell_type": "code",
   "execution_count": 54,
   "id": "352fbeb8-ac0a-4213-8407-8230e01e7d82",
   "metadata": {},
   "outputs": [],
   "source": [
    "order, people, height = np.loadtxt('C:/Users/HP/OneDrive - Universidad Autonoma de Santo Domingo/Programing/Project/Python/Intro/Sample.csv', dtype='object',delimiter=',', unpack=True, skiprows=1)"
   ]
  },
  {
   "cell_type": "code",
   "execution_count": 55,
   "id": "98a62348-c878-4415-ac00-603395b56755",
   "metadata": {},
   "outputs": [
    {
     "data": {
      "text/plain": [
       "array(['Jim', 'Mike', 'Bob', 'Susy', 'Tim', 'Frank'], dtype=object)"
      ]
     },
     "execution_count": 55,
     "metadata": {},
     "output_type": "execute_result"
    }
   ],
   "source": [
    "people"
   ]
  },
  {
   "cell_type": "code",
   "execution_count": 56,
   "id": "7f482af5-840f-427d-8589-10b3f2e4a4c1",
   "metadata": {},
   "outputs": [
    {
     "data": {
      "text/plain": [
       "array(['172', '168', '182', '153', '170', '190'], dtype=object)"
      ]
     },
     "execution_count": 56,
     "metadata": {},
     "output_type": "execute_result"
    }
   ],
   "source": [
    "height"
   ]
  },
  {
   "cell_type": "code",
   "execution_count": 57,
   "id": "ce2703b3-fd16-4c25-9287-56e8933619f8",
   "metadata": {},
   "outputs": [],
   "source": [
    "people=people.astype(str)\n",
    "height=height.astype(float)"
   ]
  },
  {
   "cell_type": "code",
   "execution_count": 58,
   "id": "f3423ca8-af16-4808-bfa3-0961137bc699",
   "metadata": {},
   "outputs": [
    {
     "data": {
      "text/plain": [
       "array(['Jim', 'Mike', 'Bob', 'Susy', 'Tim', 'Frank'], dtype='<U5')"
      ]
     },
     "execution_count": 58,
     "metadata": {},
     "output_type": "execute_result"
    }
   ],
   "source": [
    "people"
   ]
  },
  {
   "cell_type": "code",
   "execution_count": 59,
   "id": "f845e4a4-7471-4b50-9c9c-fdb017b17692",
   "metadata": {},
   "outputs": [
    {
     "data": {
      "text/plain": [
       "array([172., 168., 182., 153., 170., 190.])"
      ]
     },
     "execution_count": 59,
     "metadata": {},
     "output_type": "execute_result"
    }
   ],
   "source": [
    "height"
   ]
  },
  {
   "cell_type": "code",
   "execution_count": null,
   "id": "1541307a-3a78-491b-b360-5efef7b8d389",
   "metadata": {},
   "outputs": [],
   "source": []
  }
 ],
 "metadata": {
  "kernelspec": {
   "display_name": "Python 3",
   "language": "python",
   "name": "python3"
  },
  "language_info": {
   "codemirror_mode": {
    "name": "ipython",
    "version": 3
   },
   "file_extension": ".py",
   "mimetype": "text/x-python",
   "name": "python",
   "nbconvert_exporter": "python",
   "pygments_lexer": "ipython3",
   "version": "3.8.8"
  }
 },
 "nbformat": 4,
 "nbformat_minor": 5
}
