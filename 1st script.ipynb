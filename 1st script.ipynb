{
 "cells": [
  {
   "cell_type": "code",
   "execution_count": 34,
   "id": "15832f49",
   "metadata": {},
   "outputs": [],
   "source": [
    "import numpy as np\n",
    "import math as m"
   ]
  },
  {
   "cell_type": "code",
   "execution_count": 66,
   "id": "0c91c86e",
   "metadata": {},
   "outputs": [
    {
     "name": "stdout",
     "output_type": "stream",
     "text": [
      "1.0\n"
     ]
    }
   ],
   "source": [
    "x=m.pi\n",
    "x1=np.pi\n",
    "print(np.sin(x/2))"
   ]
  },
  {
   "cell_type": "code",
   "execution_count": 144,
   "id": "e858c287",
   "metadata": {},
   "outputs": [
    {
     "name": "stdout",
     "output_type": "stream",
     "text": [
      "0.0\n",
      "0.3420201433256687\n",
      "0.6427876096865393\n",
      "0.8660254037844386\n",
      "0.984807753012208\n",
      "0.984807753012208\n",
      "0.8660254037844387\n",
      "0.6427876096865395\n",
      "0.3420201433256689\n",
      "1.2246467991473532e-16\n"
     ]
    }
   ],
   "source": [
    "for i in range(0,181,20):\n",
    "    print(np.sin(i*(x/180)))"
   ]
  },
  {
   "cell_type": "code",
   "execution_count": 135,
   "id": "74647ebc",
   "metadata": {},
   "outputs": [
    {
     "name": "stdout",
     "output_type": "stream",
     "text": [
      "4\n"
     ]
    }
   ],
   "source": [
    "b = 5\n",
    "if b > 0:\n",
    "  print(b-1)\n",
    "elif b == 0:\n",
    "  print(b)\n",
    "else:\n",
    "  print(b+1)"
   ]
  },
  {
   "cell_type": "code",
   "execution_count": 137,
   "id": "2ea252ac",
   "metadata": {},
   "outputs": [
    {
     "name": "stdout",
     "output_type": "stream",
     "text": [
      "6.917317734107098\n",
      "5.690162527742191\n",
      "4.318260416118125\n",
      "2.851160603157313\n",
      "1.4533096975510897\n",
      "0.442738128215218\n",
      "0.04638960611309839\n",
      "0.0005348912194956196\n",
      "7.152237198067616e-08\n",
      "1.2788624083451694e-15\n",
      "4.259467473217158e-31\n",
      "0.0\n"
     ]
    }
   ],
   "source": [
    "a=8\n",
    "while a>0:\n",
    "    a=a*(1-np.exp(-a*.25))\n",
    "    print(a)"
   ]
  },
  {
   "cell_type": "code",
   "execution_count": null,
   "id": "52fe8b16",
   "metadata": {},
   "outputs": [],
   "source": []
  }
 ],
 "metadata": {
  "kernelspec": {
   "display_name": "Python 3",
   "language": "python",
   "name": "python3"
  },
  "language_info": {
   "codemirror_mode": {
    "name": "ipython",
    "version": 3
   },
   "file_extension": ".py",
   "mimetype": "text/x-python",
   "name": "python",
   "nbconvert_exporter": "python",
   "pygments_lexer": "ipython3",
   "version": "3.8.8"
  }
 },
 "nbformat": 4,
 "nbformat_minor": 5
}
