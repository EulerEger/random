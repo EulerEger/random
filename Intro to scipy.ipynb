{
 "cells": [
  {
   "cell_type": "code",
   "execution_count": 2,
   "id": "154cec96-81af-4ebe-9dc9-8854af97bb4c",
   "metadata": {},
   "outputs": [],
   "source": [
    "import numpy as np\n",
    "import matplotlib.pyplot as plt\n",
    "import scipy as sp"
   ]
  },
  {
   "cell_type": "markdown",
   "id": "c3991fa3-bc4f-47fa-9c7c-d07ec8c6a98c",
   "metadata": {},
   "source": [
    "# Basic"
   ]
  },
  {
   "cell_type": "markdown",
   "id": "bcb11bf4-b620-4354-b00d-562fdec71ffe",
   "metadata": {},
   "source": [
    "### Optimization"
   ]
  },
  {
   "cell_type": "code",
   "execution_count": 3,
   "id": "454afb13-dcf0-47a9-8247-e9ffca79c9e7",
   "metadata": {},
   "outputs": [],
   "source": [
    "from scipy.optimize import minimize"
   ]
  },
  {
   "cell_type": "markdown",
   "id": "dedb7f1d-2926-4ee4-832e-2924f30487e7",
   "metadata": {},
   "source": [
    "Minimize $f(x) = (x-3)^2$"
   ]
  },
  {
   "cell_type": "code",
   "execution_count": 11,
   "id": "42bbe7d5-99a6-4f0f-bc0a-c4362044425c",
   "metadata": {},
   "outputs": [
    {
     "data": {
      "text/plain": [
       "      fun: 5.551437397369767e-17\n",
       " hess_inv: array([[0.5]])\n",
       "      jac: array([-4.3254289e-13])\n",
       "  message: 'Optimization terminated successfully.'\n",
       "     nfev: 6\n",
       "      nit: 2\n",
       "     njev: 3\n",
       "   status: 0\n",
       "  success: True\n",
       "        x: array([2.99999999])"
      ]
     },
     "execution_count": 11,
     "metadata": {},
     "output_type": "execute_result"
    }
   ],
   "source": [
    "def f(x):\n",
    "    return (x-3)**2\n",
    "\n",
    "res=minimize(f,2)\n",
    "res"
   ]
  },
  {
   "cell_type": "code",
   "execution_count": 13,
   "id": "d9e0143e-0b58-406c-9f4c-5737895a62b3",
   "metadata": {},
   "outputs": [
    {
     "data": {
      "text/plain": [
       "2.999999992549203"
      ]
     },
     "execution_count": 13,
     "metadata": {},
     "output_type": "execute_result"
    }
   ],
   "source": [
    "res.x[0]"
   ]
  },
  {
   "cell_type": "markdown",
   "id": "2c296f4d-7f1b-4e4a-a2d2-e4a8cfa7d464",
   "metadata": {},
   "source": [
    "Minimize $f(x,y) = (x-1)^2 +(y-\\frac{5}{2})^2 $ sbjectec to\n",
    "$$\\\\ x-2y+2 \\geq 0 \\\\\n",
    "-x-2y+6 \\geq 0 \\\\\n",
    "-x+2y+2 \\geq 0 \\\\\n",
    "x \\geq 0 \\\\\n",
    "y \\geq 0\n",
    "$$\n",
    "* 2D function takes in vector $x$\n",
    "* Constraints must be specified as $g_i (x) \\geq 0$ \n",
    "* Bounds specified as rectangular\n",
    "<p align=\\\"center\\\">\n",
    "<img src=\\\"C:/Users/HP/OneDrive - Universidad Autonoma de Santo Domingo/Programing/Project/Python/Intro/opt_reg.PNG\"alt=\\\"drawing\\\" width=\\\"300\\\" align=\\\"center\\\"/>"
   ]
  },
  {
   "cell_type": "code",
   "execution_count": 17,
   "id": "7f4fa982-08d4-4d6d-a8b7-7d47491bed57",
   "metadata": {},
   "outputs": [
    {
     "data": {
      "text/plain": [
       "     fun: 0.8000000011920985\n",
       "     jac: array([ 0.80000002, -1.59999999])\n",
       " message: 'Optimization terminated successfully'\n",
       "    nfev: 10\n",
       "     nit: 3\n",
       "    njev: 3\n",
       "  status: 0\n",
       " success: True\n",
       "       x: array([1.4, 1.7])"
      ]
     },
     "execution_count": 17,
     "metadata": {},
     "output_type": "execute_result"
    }
   ],
   "source": [
    "f= lambda x: (x[0]-1)**2 + (x[1]-2.5)**2\n",
    "cons = ({'type':'ineq','fun':lambda x:x[0]-2*x[1]+2},\n",
    "       {'type':'ineq','fun':lambda x:-x[0]-2*x[1]+6},\n",
    "       {'type':'ineq','fun':lambda x:-x[0]+2*x[1]+2},\n",
    "       )\n",
    "bnds =((0,None),(0,None))\n",
    "res = minimize(f,(2,0),bounds=bnds, constraints=cons)\n",
    "res"
   ]
  },
  {
   "cell_type": "code",
   "execution_count": 18,
   "id": "879b2bfc-61fe-4896-a833-faf035e651ff",
   "metadata": {},
   "outputs": [
    {
     "data": {
      "text/plain": [
       "array([1.4, 1.7])"
      ]
     },
     "execution_count": 18,
     "metadata": {},
     "output_type": "execute_result"
    }
   ],
   "source": [
    "res.x"
   ]
  },
  {
   "cell_type": "markdown",
   "id": "11e000ab-5574-4339-a62e-b8c4b7b93bd2",
   "metadata": {},
   "source": [
    "### Interpolation"
   ]
  },
  {
   "cell_type": "markdown",
   "id": "ce723a89-48d4-407b-b2ad-5bbf7e92914c",
   "metadata": {},
   "source": [
    "Suppose you have the following data (I Generate it here, but perhaps you colect $x$ and $y$ by means of some experiment)"
   ]
  },
  {
   "cell_type": "code",
   "execution_count": 19,
   "id": "7c788513-143c-42af-b6c6-b38ff26f6aa7",
   "metadata": {},
   "outputs": [
    {
     "data": {
      "text/plain": [
       "<matplotlib.collections.PathCollection at 0x201bc8a01c0>"
      ]
     },
     "execution_count": 19,
     "metadata": {},
     "output_type": "execute_result"
    },
    {
     "data": {
      "image/png": "[encoded data removed]",
      "text/plain": [
       "<Figure size 432x288 with 1 Axes>"
      ]
     },
     "metadata": {
      "needs_background": "light"
     },
     "output_type": "display_data"
    }
   ],
   "source": [
    "x =np.linspace(0,10,10)\n",
    "y= x**2 * np.sin(x)\n",
    "plt.scatter(x,y)"
   ]
  },
  {
   "cell_type": "code",
   "execution_count": 21,
   "id": "f9f75df9-cd91-4d86-9659-459363bd3600",
   "metadata": {},
   "outputs": [],
   "source": [
    "from scipy.interpolate import interp1d"
   ]
  },
  {
   "cell_type": "code",
   "execution_count": 26,
   "id": "25881877-3dab-426e-bf6e-3fb40828af0e",
   "metadata": {},
   "outputs": [],
   "source": [
    "f=interp1d(x,y,kind='linear')\n",
    "x_dense=np.linspace(0,10,100)\n",
    "y_dense=f(x_dense)"
   ]
  },
  {
   "cell_type": "code",
   "execution_count": 27,
   "id": "f886d52a-2737-48cf-85ee-5a7f519ec411",
   "metadata": {},
   "outputs": [
    {
     "data": {
      "text/plain": [
       "[<matplotlib.lines.Line2D at 0x201bcaf7d00>]"
      ]
     },
     "execution_count": 27,
     "metadata": {},
     "output_type": "execute_result"
    },
    {
     "data": {
      "image/png": "[encoded data removed]",
      "text/plain": [
       "<Figure size 432x288 with 1 Axes>"
      ]
     },
     "metadata": {
      "needs_background": "light"
     },
     "output_type": "display_data"
    }
   ],
   "source": [
    "plt.plot(x_dense,y_dense)"
   ]
  },
  {
   "cell_type": "code",
   "execution_count": 28,
   "id": "894ecb5b-d33b-4071-8943-a814d950975f",
   "metadata": {},
   "outputs": [
    {
     "data": {
      "text/plain": [
       "[<matplotlib.lines.Line2D at 0x201bcb51e80>]"
      ]
     },
     "execution_count": 28,
     "metadata": {},
     "output_type": "execute_result"
    },
    {
     "data": {
      "image/png": "[encoded data removed]",
      "text/plain": [
       "<Figure size 432x288 with 1 Axes>"
      ]
     },
     "metadata": {
      "needs_background": "light"
     },
     "output_type": "display_data"
    }
   ],
   "source": [
    "f=interp1d(x,y,kind='cubic')\n",
    "x_dense=np.linspace(0,10,100)\n",
    "y_dense=f(x_dense)\n",
    "plt.plot(x_dense,y_dense)"
   ]
  },
  {
   "cell_type": "markdown",
   "id": "2ac4db25-50af-4a80-b751-2a5d3a82cb8d",
   "metadata": {},
   "source": [
    "### Curve Fitting\n",
    "trivial example"
   ]
  },
  {
   "cell_type": "code",
   "execution_count": 9,
   "id": "82f7d19e-02a8-4a42-ab8d-1ea262eb425d",
   "metadata": {},
   "outputs": [
    {
     "data": {
      "text/plain": [
       "<matplotlib.collections.PathCollection at 0x21c558666a0>"
      ]
     },
     "execution_count": 9,
     "metadata": {},
     "output_type": "execute_result"
    },
    {
     "data": {
      "image/png": "[encoded data removed]",
      "text/plain": [
       "<Figure size 432x288 with 1 Axes>"
      ]
     },
     "metadata": {
      "needs_background": "light"
     },
     "output_type": "display_data"
    }
   ],
   "source": [
    "x_data=np.linspace(0,10,10)\n",
    "y_data=3*x_data**2 +2\n",
    "plt.scatter(x_data,y_data)"
   ]
  },
  {
   "cell_type": "markdown",
   "id": "86d644f5-14eb-4328-ad7c-fd71da85f52f",
   "metadata": {},
   "source": [
    "Want to fit the data to the curve $y=ax^2+b$. the main goal here is determine the values of $a$ and $b$."
   ]
  },
  {
   "cell_type": "code",
   "execution_count": 5,
   "id": "57b1e7ce-13e9-48f8-9e48-1dc5f0ed9250",
   "metadata": {},
   "outputs": [],
   "source": [
    "from scipy.optimize import curve_fit\n",
    "def func(x,a,b):\n",
    "    return a*x**2+b\n",
    "popt,pcov = curve_fit(func,x_data,y_data,p0=(1,1))"
   ]
  },
  {
   "cell_type": "code",
   "execution_count": 34,
   "id": "3d798d3d-4ca8-4c59-903e-ba6148c40277",
   "metadata": {},
   "outputs": [
    {
     "data": {
      "text/plain": [
       "array([3., 2.])"
      ]
     },
     "execution_count": 34,
     "metadata": {},
     "output_type": "execute_result"
    }
   ],
   "source": [
    "popt"
   ]
  },
  {
   "cell_type": "code",
   "execution_count": 35,
   "id": "ae377585-b17b-4254-b07f-cd99c52be54b",
   "metadata": {},
   "outputs": [
    {
     "data": {
      "text/plain": [
       "array([[ 4.13297331e-34, -1.45419433e-32],\n",
       "       [-1.45419433e-32,  9.65872308e-31]])"
      ]
     },
     "execution_count": 35,
     "metadata": {},
     "output_type": "execute_result"
    }
   ],
   "source": [
    "pcov"
   ]
  },
  {
   "cell_type": "code",
   "execution_count": 11,
   "id": "a4566f05-d3ed-4e46-998e-41b975b561e1",
   "metadata": {},
   "outputs": [
    {
     "data": {
      "text/plain": [
       "[<matplotlib.lines.Line2D at 0x21c558e0c70>]"
      ]
     },
     "execution_count": 11,
     "metadata": {},
     "output_type": "execute_result"
    },
    {
     "data": {
      "image/png": "[encoded data removed]",
      "text/plain": [
       "<Figure size 432x288 with 1 Axes>"
      ]
     },
     "metadata": {
      "needs_background": "light"
     },
     "output_type": "display_data"
    }
   ],
   "source": [
    "a,b=popt\n",
    "x=np.linspace(0,10,10)\n",
    "y=a*x**2 +b\n",
    "plt.scatter(x_data,y_data)\n",
    "plt.plot(x,y)"
   ]
  },
  {
   "cell_type": "markdown",
   "id": "8b726c49-1691-4432-978c-544e43bed22f",
   "metadata": {},
   "source": [
    "The equation for spring is $y(t) = A\\cos(\\omega t + \\phi)$. Want to find the natural frequency of oscillation $\\omega$ for the spring. you collect the data."
   ]
  },
  {
   "cell_type": "code",
   "execution_count": 37,
   "id": "ecdf4a39-1d9c-4fe1-84a1-345abbe54438",
   "metadata": {},
   "outputs": [
    {
     "data": {
      "text/plain": [
       "[<matplotlib.lines.Line2D at 0x201bd2bf670>]"
      ]
     },
     "execution_count": 37,
     "metadata": {},
     "output_type": "execute_result"
    },
    {
     "data": {
      "image/png": "[encoded data removed]",
      "text/plain": [
       "<Figure size 432x288 with 1 Axes>"
      ]
     },
     "metadata": {
      "needs_background": "light"
     },
     "output_type": "display_data"
    }
   ],
   "source": [
    "t_data = np.array([ 0.   ,  0.34482759,  0.68965517,  1.03448276,  1.37931034,\n",
    "        1.72413793,  2.06896552,  2.4137931 ,  2.75862069,  3.10344828,\n",
    "        3.44827586,  3.79310345,  4.13793103,  4.48275862,  4.82758621,\n",
    "        5.17241379,  5.51724138,  5.86206897,  6.20689655,  6.55172414,\n",
    "        6.89655172,  7.24137931,  7.5862069 ,  7.93103448,  8.27586207,\n",
    "        8.62068966,  8.96551724,  9.31034483,  9.65517241, 10.        ])\n",
    "y_data = np.array([ 4.3303953 ,  1.61137995, -2.15418696, -3.90137249, -1.67259042,\n",
    "        2.16884383,  3.86635998,  1.85194506, -1.8489224 , -3.96560495,\n",
    "       -2.13385255,  1.59425817,  4.06145238,  1.89300594, -1.76870297,\n",
    "       -4.26791226, -2.46874133,  1.37019912,  4.24945607,  2.27038039,\n",
    "       -1.50299303, -3.46774049, -2.50845488,  1.20022052,  3.81633703,\n",
    "        2.91511556, -1.24569189, -3.72716214, -2.54549857,  0.87262548])\n",
    "plt.plot(t_data,y_data,'o--')"
   ]
  },
  {
   "cell_type": "markdown",
   "id": "382b36bb-2585-4bbd-91f5-bb2beee3aa38",
   "metadata": {},
   "source": [
    "$\\omega =2 \\pi f, f=\\frac{1}{T}$, and $T \\approx 2$. Thus initial guess is\n",
    "\n",
    "* $\\omega =2 \\pi \\frac{1}{2} = \\pi$\n",
    "* A = 4\n",
    "* $\\phi =0$\n"
   ]
  },
  {
   "cell_type": "code",
   "execution_count": 42,
   "id": "0d700908-9cdf-4739-9605-a363814c81e3",
   "metadata": {},
   "outputs": [],
   "source": [
    "def func(x,A,w,phi):\n",
    "    return A*np.cos(w*x+phi)\n",
    "\n",
    "popt, pcov = curve_fit(func,t_data,y_data, p0=(4,np.pi,0))"
   ]
  },
  {
   "cell_type": "code",
   "execution_count": 43,
   "id": "58bb2a0d-e6f8-4050-a953-41a9dbb1c95a",
   "metadata": {},
   "outputs": [],
   "source": [
    "A,w,phi=popt"
   ]
  },
  {
   "cell_type": "code",
   "execution_count": 45,
   "id": "576cf573-eeed-42d2-b549-f56f8220d7eb",
   "metadata": {},
   "outputs": [
    {
     "data": {
      "text/plain": [
       "[<matplotlib.lines.Line2D at 0x201bcb38520>]"
      ]
     },
     "execution_count": 45,
     "metadata": {},
     "output_type": "execute_result"
    },
    {
     "data": {
      "image/png": "[encoded data removed]",
      "text/plain": [
       "<Figure size 432x288 with 1 Axes>"
      ]
     },
     "metadata": {
      "needs_background": "light"
     },
     "output_type": "display_data"
    }
   ],
   "source": [
    "t=np.linspace(0,10,100)\n",
    "y=func(t,A,w,phi)\n",
    "\n",
    "plt.scatter(t_data,y_data)\n",
    "plt.plot(t,y)"
   ]
  },
  {
   "cell_type": "markdown",
   "id": "d926ce5e-3c32-4bcd-90f2-63c8c042b130",
   "metadata": {},
   "source": [
    "Parameters"
   ]
  },
  {
   "cell_type": "code",
   "execution_count": 50,
   "id": "b1fd6e32-f410-4f42-a445-36133b52955d",
   "metadata": {},
   "outputs": [
    {
     "data": {
      "text/plain": [
       "array([3.94836219, 2.99899521, 0.10411352])"
      ]
     },
     "execution_count": 50,
     "metadata": {},
     "output_type": "execute_result"
    }
   ],
   "source": [
    "popt"
   ]
  },
  {
   "cell_type": "markdown",
   "id": "99395971-22d4-42f0-949a-ba49ce206db2",
   "metadata": {},
   "source": [
    "The estimated error on the parameters"
   ]
  },
  {
   "cell_type": "code",
   "execution_count": 51,
   "id": "3e274eb7-7552-4fed-aee2-93deae1f21c9",
   "metadata": {},
   "outputs": [
    {
     "data": {
      "text/plain": [
       "array([0.05117448, 0.00430857, 0.02575701])"
      ]
     },
     "execution_count": 51,
     "metadata": {},
     "output_type": "execute_result"
    }
   ],
   "source": [
    "np.sqrt(np.diag(pcov))"
   ]
  },
  {
   "cell_type": "markdown",
   "id": "4d3531d9-28c6-40ee-80b6-e2078d7c3c7d",
   "metadata": {},
   "source": [
    "# Special funtion"
   ]
  },
  {
   "cell_type": "markdown",
   "id": "f548dc1f-89cb-40e2-8444-a651d2d189f2",
   "metadata": {},
   "source": [
    "Legendre polynomials $P_i (x)$: satisfy $x^2y''+xy'+ (x^2+a^2)y=0$"
   ]
  },
  {
   "cell_type": "code",
   "execution_count": 53,
   "id": "1b2b339d-f46d-4488-91ec-9e403d76320f",
   "metadata": {},
   "outputs": [
    {
     "data": {
      "text/plain": [
       "[<matplotlib.lines.Line2D at 0x201bd3af730>]"
      ]
     },
     "execution_count": 53,
     "metadata": {},
     "output_type": "execute_result"
    },
    {
     "data": {
      "image/png": "[encoded data removed]",
      "text/plain": [
       "<Figure size 432x288 with 1 Axes>"
      ]
     },
     "metadata": {
      "needs_background": "light"
     },
     "output_type": "display_data"
    }
   ],
   "source": [
    "from scipy.special import legendre\n",
    "x=np.linspace(0,1,100)\n",
    "plt.plot(x,legendre(6)(x))\n"
   ]
  },
  {
   "cell_type": "markdown",
   "id": "2c518d73-283b-4be7-b176-12c4cbc95ae0",
   "metadata": {},
   "source": [
    "Bessel function $J_a(x)$: satisfy $x^2y'' +xy'+(x^2-a^2)y = 0$\n",
    "\n",
    "* Laplace's Ecuation in polar Coordinates"
   ]
  },
  {
   "cell_type": "code",
   "execution_count": 54,
   "id": "14ac4c44-7c70-4e83-99e1-0b9352562c9e",
   "metadata": {},
   "outputs": [
    {
     "data": {
      "text/plain": [
       "[<matplotlib.lines.Line2D at 0x201bd408910>]"
      ]
     },
     "execution_count": 54,
     "metadata": {},
     "output_type": "execute_result"
    },
    {
     "data": {
      "image/png": "[encoded data removed]",
      "text/plain": [
       "<Figure size 432x288 with 1 Axes>"
      ]
     },
     "metadata": {
      "needs_background": "light"
     },
     "output_type": "display_data"
    }
   ],
   "source": [
    "from scipy.special import jv\n",
    "x=np.linspace(0,1,100)\n",
    "plt.plot(x,jv(3,x))\n"
   ]
  },
  {
   "cell_type": "markdown",
   "id": "897586db-61a5-4493-afc4-b5f9534d1d33",
   "metadata": {},
   "source": [
    "# calculus\n",
    "\n",
    "### Differentiation"
   ]
  },
  {
   "cell_type": "code",
   "execution_count": 55,
   "id": "7f27b610-6166-4d5b-9dee-78334ba4a885",
   "metadata": {},
   "outputs": [],
   "source": [
    "from scipy.misc import derivative"
   ]
  },
  {
   "cell_type": "markdown",
   "id": "3b09f224-55e8-4d93-bc78-dc4e99b60b0e",
   "metadata": {},
   "source": [
    "$$\\frac{d}{dx} x^2 e^{-x} \\sin(2x)$$"
   ]
  },
  {
   "cell_type": "code",
   "execution_count": 61,
   "id": "b0d3816e-1089-44ab-9b9e-641b16b8344c",
   "metadata": {},
   "outputs": [],
   "source": [
    "def f(x):\n",
    "    return x**2 * np.sin(2*x)*np.exp(-x)\n",
    "x=np.linspace(0,1,100)\n",
    "dfdx=derivative(f,x,dx=1e-6)"
   ]
  },
  {
   "cell_type": "code",
   "execution_count": 65,
   "id": "7404fb65-d79b-475b-933c-c0f73681b129",
   "metadata": {},
   "outputs": [
    {
     "data": {
      "text/plain": [
       "[<matplotlib.lines.Line2D at 0x201be629730>]"
      ]
     },
     "execution_count": 65,
     "metadata": {},
     "output_type": "execute_result"
    },
    {
     "data": {
      "image/png": "[encoded data removed]",
      "text/plain": [
       "<Figure size 432x288 with 1 Axes>"
      ]
     },
     "metadata": {
      "needs_background": "light"
     },
     "output_type": "display_data"
    }
   ],
   "source": [
    "plt.plot(x,f(x))\n",
    "plt.plot(x,dfdx)\n",
    "plt.plot(x,derivative(f,x,dx=1e-6, n=2))"
   ]
  },
  {
   "cell_type": "markdown",
   "id": "f25de209-f00e-47ae-9862-adb501bbf8ec",
   "metadata": {},
   "source": [
    "### Integration"
   ]
  },
  {
   "cell_type": "markdown",
   "id": "2c6886b4-786e-423f-9662-da7052da7c31",
   "metadata": {},
   "source": [
    "single integrals\n",
    "\n",
    "$$ \\int_0^1 x^2 \\sin(2x) e^{-x} dx$$"
   ]
  },
  {
   "cell_type": "code",
   "execution_count": 68,
   "id": "c6af5109-64a2-4af3-ad77-e420b6f23b05",
   "metadata": {},
   "outputs": [
    {
     "data": {
      "text/plain": [
       "1.6162822047366225e-15"
      ]
     },
     "execution_count": 68,
     "metadata": {},
     "output_type": "execute_result"
    }
   ],
   "source": [
    "from scipy.integrate import quad\n",
    "integrand = lambda x: x**2 * np.sin(2*x) * np.exp(-x)\n",
    "integral,integral_error = quad(integrand,0,1)\n",
    "integral"
   ]
  },
  {
   "cell_type": "code",
   "execution_count": 69,
   "id": "4b015152-09d8-4f46-961a-685fbd0ccf86",
   "metadata": {},
   "outputs": [
    {
     "data": {
      "text/plain": [
       "1.6162822047366225e-15"
      ]
     },
     "execution_count": 69,
     "metadata": {},
     "output_type": "execute_result"
    }
   ],
   "source": [
    "integral_error"
   ]
  },
  {
   "cell_type": "markdown",
   "id": "fd3e51e3-806d-49f2-86d1-4d2dcc911643",
   "metadata": {},
   "source": []
  },
  {
   "cell_type": "markdown",
   "id": "907b3b6c-3a0d-44c5-b719-121714fdd9cb",
   "metadata": {},
   "source": [
    "Double integrals \n",
    "\n",
    "$$\\int_0^1 \\int_{-x}^{x^2} \\sin(x+y^2 dydx$$"
   ]
  },
  {
   "cell_type": "code",
   "execution_count": 70,
   "id": "9639e5f9-0661-491e-a17a-4e1cfce3838b",
   "metadata": {},
   "outputs": [],
   "source": [
    "from scipy.integrate import dblquad"
   ]
  },
  {
   "cell_type": "code",
   "execution_count": 73,
   "id": "94a5ae5b-7af5-4802-99fb-a7b3970f1f2b",
   "metadata": {},
   "outputs": [],
   "source": [
    "integrand = lambda x,y: np.sin(x+y**2)\n",
    "lwr_y =lambda x: -x\n",
    "upr_y =lambda x: x**2\n",
    "integral, integral_error =dblquad(integrand,0,1,lwr_y,upr_y)\n"
   ]
  },
  {
   "cell_type": "code",
   "execution_count": 74,
   "id": "01c18a72-c019-419a-a62c-a909b7b192a6",
   "metadata": {},
   "outputs": [
    {
     "data": {
      "text/plain": [
       "0.315802507240474"
      ]
     },
     "execution_count": 74,
     "metadata": {},
     "output_type": "execute_result"
    }
   ],
   "source": [
    "integral"
   ]
  },
  {
   "cell_type": "code",
   "execution_count": 75,
   "id": "807f67aa-c914-4d91-b56d-b4d39e590d67",
   "metadata": {},
   "outputs": [
    {
     "data": {
      "text/plain": [
       "1.5634600713498928e-14"
      ]
     },
     "execution_count": 75,
     "metadata": {},
     "output_type": "execute_result"
    }
   ],
   "source": [
    "integral_error"
   ]
  },
  {
   "cell_type": "markdown",
   "id": "76959651-f1bf-4372-9648-2b3e86d832d4",
   "metadata": {},
   "source": [
    "## Diferential Ecuation"
   ]
  },
  {
   "cell_type": "markdown",
   "id": "549d0101-a550-4bd8-adc8-35c823d5bdae",
   "metadata": {},
   "source": [
    "### First Order ODEs\n",
    "\n",
    "Air friction about falling\n",
    "\n",
    "$$v' - \\alpha v^2 +\\beta = 0 \\hspace{10mm} v(0)=0$$"
   ]
  },
  {
   "cell_type": "code",
   "execution_count": 76,
   "id": "6823bda2-93b1-4c01-91d1-c7c13a37da96",
   "metadata": {},
   "outputs": [],
   "source": [
    "from scipy.integrate import odeint"
   ]
  },
  {
   "cell_type": "markdown",
   "id": "2c1b00a3-b06d-4874-b6d7-6a849984fdd1",
   "metadata": {},
   "source": [
    "All information about differential equation"
   ]
  },
  {
   "cell_type": "code",
   "execution_count": 77,
   "id": "d4e80620-68fd-4d4d-8ecb-4ffd74d3c3d0",
   "metadata": {},
   "outputs": [],
   "source": [
    "def dvdt(v,t):\n",
    "    return 3*v**2-5\n",
    "v0 = 0"
   ]
  },
  {
   "cell_type": "code",
   "execution_count": 84,
   "id": "fbda9f3b-5a1a-42d8-87ff-f0eb420071e7",
   "metadata": {},
   "outputs": [
    {
     "data": {
      "text/plain": [
       "[<matplotlib.lines.Line2D at 0x201be73e0a0>]"
      ]
     },
     "execution_count": 84,
     "metadata": {},
     "output_type": "execute_result"
    },
    {
     "data": {
      "image/png": "[encoded data removed]",
      "text/plain": [
       "<Figure size 432x288 with 1 Axes>"
      ]
     },
     "metadata": {
      "needs_background": "light"
     },
     "output_type": "display_data"
    }
   ],
   "source": [
    "t=np.linspace(0,1,100)\n",
    "sol=odeint(dvdt,v0,t)\n",
    "plt.plot(t,sol.T[0])"
   ]
  },
  {
   "cell_type": "markdown",
   "id": "c5d7d40b-2bb7-4d73-a05b-2898241fe040",
   "metadata": {},
   "source": [
    "Couple first order ODEs"
   ]
  },
  {
   "cell_type": "markdown",
   "id": "01d6591a-2508-4d49-a95b-2a22501183ff",
   "metadata": {},
   "source": [
    "$$y_1'=y_1+y_2^2 + 3x \\hspace{10mm} y_1 (0) = 0 \\\\$$\n",
    "$$y_2'=3y_1+y_2^3 - \\cos(x) \\hspace{10mm} y_2 (0) = 0$$ \n",
    "\n",
    "\n",
    "Letting $S=(y_1,y_2)$ we need to write a function that returns $\\frac{dS}{dx} = (\\frac{dy_1}{dx} , \\frac{dy_2}{dx})$. the function$\\frac{dS}{dx}$ can take in $S=(y_1,y_2)$."
   ]
  },
  {
   "cell_type": "code",
   "execution_count": 88,
   "id": "f255bf34-50c2-455f-b4dc-4b79626657a7",
   "metadata": {},
   "outputs": [],
   "source": [
    "def dSdx(S,x):\n",
    "    y1,y2=S\n",
    "    return [y1+y2**2+3*x,\n",
    "            3*y1+y2**3-np.cos(x)]\n",
    "y1_0 = 0\n",
    "y2_0 = 0\n",
    "S_0 = (y1_0,y2_0)"
   ]
  },
  {
   "cell_type": "code",
   "execution_count": 100,
   "id": "0b4dd435-9f6a-4a8d-923c-29c8ab6b3223",
   "metadata": {},
   "outputs": [
    {
     "data": {
      "text/plain": [
       "[<matplotlib.lines.Line2D at 0x201be82b7c0>]"
      ]
     },
     "execution_count": 100,
     "metadata": {},
     "output_type": "execute_result"
    },
    {
     "data": {
      "image/png": "[encoded data removed]",
      "text/plain": [
       "<Figure size 432x288 with 1 Axes>"
      ]
     },
     "metadata": {
      "needs_background": "light"
     },
     "output_type": "display_data"
    }
   ],
   "source": [
    "x=np.linspace(0,1,100)\n",
    "sol=odeint(dSdx,S_0,x)\n",
    "y1,y2 = sol.T\n",
    "plt.plot(x,y1)\n",
    "plt.plot(x,y2)"
   ]
  },
  {
   "cell_type": "markdown",
   "id": "8749aa80-04ac-454a-a7af-7362b1132454",
   "metadata": {},
   "source": [
    "### Second Order ODEs\n",
    "\n",
    "Equation for a pendulum\n",
    "\n",
    "$$\\theta'' -\\sin(\\theta)=0$$\n",
    "\n",
    "Scipy can only solve couple first order ODEs, but **any second order ODE can be turned into two couple first order ODEs.** \n",
    "the same thing goes for higher order ODEs.\n",
    "\n",
    "Define $\\omega = \\frac{d\\theta}{dt}$ so that one has the following couple ODEs.\n",
    "\n",
    "$$\\frac{d\\omega}{dt} = \\sin(\\theta) \\\\\n",
    "\\frac{d\\theta}{dt} = \\omega$$\n",
    "\n",
    "Let $S=(\\theta, \\omega)$"
   ]
  },
  {
   "cell_type": "code",
   "execution_count": 107,
   "id": "4a8585bc-d835-4477-9287-160d33e1e2e0",
   "metadata": {},
   "outputs": [],
   "source": [
    "def dSdt(S, t):\n",
    "    theta,omega=S\n",
    "    return [omega,\n",
    "            np.sin(theta)]\n",
    "theta0=np.pi/4\n",
    "omega0=0\n",
    "S0=(theta0,omega0)"
   ]
  },
  {
   "cell_type": "code",
   "execution_count": 109,
   "id": "808ca1b2-e78d-4a02-a640-2b24e87cd4d2",
   "metadata": {},
   "outputs": [],
   "source": [
    "t = np.linspace(0,20,100)\n",
    "sol=odeint(dSdt,S0,t)\n",
    "theta,omega=sol.T"
   ]
  },
  {
   "cell_type": "code",
   "execution_count": 111,
   "id": "0d061a7e-3bd8-4265-b31c-4bde5671df55",
   "metadata": {},
   "outputs": [
    {
     "data": {
      "text/plain": [
       "[<matplotlib.lines.Line2D at 0x201be9a7070>]"
      ]
     },
     "execution_count": 111,
     "metadata": {},
     "output_type": "execute_result"
    },
    {
     "data": {
      "image/png": "[encoded data removed]",
      "text/plain": [
       "<Figure size 432x288 with 1 Axes>"
      ]
     },
     "metadata": {
      "needs_background": "light"
     },
     "output_type": "display_data"
    }
   ],
   "source": [
    "plt.plot(t,theta)\n",
    "plt.plot(t,omega)"
   ]
  },
  {
   "cell_type": "markdown",
   "id": "f2775619-dc1d-49f9-b9d8-0c303cd1d4f6",
   "metadata": {},
   "source": [
    "# Fourier Transform\n",
    "The discrete Fourier transform is define as\n",
    "$$y[k] = \\sum_{n=0}^{N-1} e^{- \\pi in \\left(\\frac{k}{N} \\right)} x(n)$$\n",
    "\n",
    "* $\\frac{k}{N}$ represents a spesific frecuency (dimentionless)\n",
    "* can be converted to frequency(Hz) if you know the spacing in $x$"
   ]
  },
  {
   "cell_type": "code",
   "execution_count": 130,
   "id": "5e6465c6-3879-4a01-9748-2303818b9263",
   "metadata": {},
   "outputs": [
    {
     "data": {
      "text/plain": [
       "[<matplotlib.lines.Line2D at 0x201bff569a0>]"
      ]
     },
     "execution_count": 130,
     "metadata": {},
     "output_type": "execute_result"
    },
    {
     "data": {
      "image/png": "[encoded data removed]",
      "text/plain": [
       "<Figure size 432x288 with 1 Axes>"
      ]
     },
     "metadata": {
      "needs_background": "light"
     },
     "output_type": "display_data"
    }
   ],
   "source": [
    "t=np.linspace(0,10*np.pi,100)\n",
    "x= np.sin(2*np.pi*t) + np.sin(4*np.pi*t) + 0.1*np.random.randn(len(t))\n",
    "plt.plot(t,x)"
   ]
  },
  {
   "cell_type": "code",
   "execution_count": 143,
   "id": "1d33d28d-dbc4-4bfd-bb09-36d494118598",
   "metadata": {},
   "outputs": [],
   "source": [
    "from scipy.fft import fft, fftfreq\n",
    "N=len(x)\n",
    "y=fft(x)[:N//2]\n",
    "f=fftfreq(N,np.diff(t)[0])[:N//2]"
   ]
  },
  {
   "cell_type": "code",
   "execution_count": 144,
   "id": "66080463-d6fd-454a-80b8-e7cd24a615b0",
   "metadata": {},
   "outputs": [
    {
     "data": {
      "text/plain": [
       "[<matplotlib.lines.Line2D at 0x201bff87fd0>]"
      ]
     },
     "execution_count": 144,
     "metadata": {},
     "output_type": "execute_result"
    },
    {
     "data": {
      "image/png": "[encoded data removed]",
      "text/plain": [
       "<Figure size 432x288 with 1 Axes>"
      ]
     },
     "metadata": {
      "needs_background": "light"
     },
     "output_type": "display_data"
    }
   ],
   "source": [
    "plt.plot(f,np.abs(y))"
   ]
  },
  {
   "cell_type": "markdown",
   "id": "089418f7-ae23-40f0-862e-d96bbc7ae8ea",
   "metadata": {},
   "source": [
    "# Examples\n",
    "#### Example 1. \n",
    "The energy required to get from point $\\vec{r_1}$ to point $\\vec{r_2}$ for a plane is given by\n",
    "\n",
    "$$ E= \\alpha \\int_{C} \\left|\\frac{d\\vec{r}}{dt}\\right| dt - \\int_{C} \\vec{F} \\cdot \\frac{d \\vec{r}}{dt} dt$$\n",
    " \n",
    "Suppose that $\\alpha = 5$ and our start and ends points are $\\vec{r_1} =(0,0)$ and $\\vec{r_2} =(0,10)$.\n",
    "On this particular day, the wind produces a force field $\\vec{F} = \\left(0,\\frac{-2}{(x+1)^2}\\right)$. \n",
    "Find the optimal value of $A$ in $\\vec{r}(t) = A\\sin(\\frac{\\pi t}{10})\\vec{x} + t\\vec{y}$\n",
    " that minimizes the work.\n",
    "\n",
    "Then $x=A\\sin(\\frac{\\pi t}{10})$, $y=t$, and $\\left|\\frac{d\\vec{r}}{dt}\\right| = \\sqrt{1+(\\frac{\\pi t}{10})^2 \\cos^2(\\frac{\\pi t}{10})}$\n",
    "\n",
    "$\\vec{F} \\cdot \\frac{d\\vec{r}}{dt} = \\begin{bmatrix} 0 \\\\ -\\frac{2}{(A \\sin(\\frac{\\pi t}{10})+1)^2} \\\\ \\end{bmatrix} \\cdot \\begin{bmatrix} \\frac{\\pi A}{10} \\cos(\\frac{\\pi t}){10} \\\\ 1 \\end{bmatrix} = -\\frac{2}{(A \\sin(\\frac{\\pi t}{10})+1)^2}$ \n",
    "\n",
    " so that\n",
    "$E =\\int_{0}^{10} \\left(5 \\sqrt{1+(\\frac{\\pi t}{10})^2 \\cos^2(\\frac{\\pi t}{10})}  -\\frac{2}{(A \\sin(\\frac{\\pi t}{10})+1)^2}\\right) dt$ "
   ]
  },
  {
   "cell_type": "code",
   "execution_count": 149,
   "id": "ea958d34-de7f-4f84-8895-7ef6cc38fcd0",
   "metadata": {},
   "outputs": [
    {
     "data": {
      "text/plain": [
       "array([1.42591114])"
      ]
     },
     "execution_count": 149,
     "metadata": {},
     "output_type": "execute_result"
    }
   ],
   "source": [
    "def f(A):\n",
    "    integrand= lambda t: 2 / (1 + np.abs(A*np.sin(t*np.pi/10)))**2 + 5*np.sqrt(1+(A*np.pi/10)**2 * np.cos(t*np.pi/10)**2)\n",
    "    return quad(integrand, 0, 10)[0]\n",
    "minimize(f,0.001).x"
   ]
  },
  {
   "cell_type": "markdown",
   "id": "383556aa-470a-4579-b345-9e0505375a53",
   "metadata": {},
   "source": [
    "# Example 2: \n",
    "\n",
    "Newton's law of cooling is\n",
    "\n",
    "$$\\frac{dT}{dt} = -k(T-T_s(t))$$\n",
    " \n",
    "where $T$ is the temperature of an object in the surroundings with temperature $T_s(t)$\n",
    "(which may depend on time). Suppose $T$ represents the temperature of a shallow pool of water and \n",
    "$T_s(t)$ represents the temperature of outside. Find $T(t)$ given that you collected measurements of the outside:"
   ]
  },
  {
   "cell_type": "code",
   "execution_count": 150,
   "id": "2749c21f-f70e-42e7-8046-9bd177474ae8",
   "metadata": {},
   "outputs": [],
   "source": [
    "t_m = np.array([ 0.,  1.04347826,  2.08695652,  3.13043478,  4.17391304,\n",
    "        5.2173913 ,  6.26086957,  7.30434783,  8.34782609,  9.39130435,\n",
    "       10.43478261, 11.47826087, 12.52173913, 13.56521739, 14.60869565,\n",
    "       15.65217391, 16.69565217, 17.73913043, 18.7826087 , 19.82608696,\n",
    "       20.86956522, 21.91304348, 22.95652174, 24.        ])\n",
    "\n",
    "temp_m = np.array([283.2322975, 284.6945461, 286.2259041, 287.8603625, 289.6440635,\n",
    "       291.6187583, 293.7939994, 296.1148895, 298.4395788, 300.5430675,\n",
    "       302.1566609, 303.0363609, 303.0363609, 302.1566609, 300.5430675,\n",
    "       298.4395788, 296.1148895, 293.7939994, 291.6187583, 289.6440635,\n",
    "       287.8603625, 286.2259041, 284.6945461, 283.2322975])"
   ]
  },
  {
   "cell_type": "code",
   "execution_count": 153,
   "id": "524d2895-22e2-4713-9e6a-bba6d0124d88",
   "metadata": {},
   "outputs": [
    {
     "data": {
      "text/plain": [
       "Text(0, 0.5, 'Temperature[K]')"
      ]
     },
     "execution_count": 153,
     "metadata": {},
     "output_type": "execute_result"
    },
    {
     "data": {
      "image/png": "[encoded data removed]",
      "text/plain": [
       "<Figure size 432x288 with 1 Axes>"
      ]
     },
     "metadata": {
      "needs_background": "light"
     },
     "output_type": "display_data"
    }
   ],
   "source": [
    "plt.scatter(t_m,temp_m)\n",
    "plt.xlabel('Time[hour]')\n",
    "plt.ylabel('Temperature[K]')"
   ]
  },
  {
   "cell_type": "code",
   "execution_count": 155,
   "id": "9b752507-c227-404c-adfb-8c054d7c21ea",
   "metadata": {},
   "outputs": [],
   "source": [
    "Ts= interp1d(t_m, temp_m, kind='cubic')"
   ]
  },
  {
   "cell_type": "code",
   "execution_count": 163,
   "id": "957518cd-ae1c-476b-915c-136f5c447efe",
   "metadata": {},
   "outputs": [],
   "source": [
    "def dTdt(T,t):\n",
    "    return -0.5*(T-Ts(t))\n",
    "times= np.linspace(1,23,1000)\n",
    "T0=284.6945461"
   ]
  },
  {
   "cell_type": "code",
   "execution_count": 166,
   "id": "5bb8aa04-7558-4c23-8fa3-334f5d0d547f",
   "metadata": {},
   "outputs": [],
   "source": [
    "sol= odeint(dTdt,T0,times).T[0]"
   ]
  },
  {
   "cell_type": "code",
   "execution_count": 168,
   "id": "0c8493b2-452d-418a-a42f-a4c09250c669",
   "metadata": {},
   "outputs": [
    {
     "data": {
      "text/plain": [
       "<matplotlib.legend.Legend at 0x201c14779a0>"
      ]
     },
     "execution_count": 168,
     "metadata": {},
     "output_type": "execute_result"
    },
    {
     "data": {
      "image/png": "[encoded data removed]",
      "text/plain": [
       "<Figure size 432x288 with 1 Axes>"
      ]
     },
     "metadata": {
      "needs_background": "light"
     },
     "output_type": "display_data"
    }
   ],
   "source": [
    "plt.plot(times,sol, label=\"Shallow water Temp.\")\n",
    "plt.scatter(t_m,temp_m, color='r', label= 'Outside Temp.')\n",
    "plt.legend()"
   ]
  },
  {
   "cell_type": "markdown",
   "id": "89624c77-57ad-4a03-8be4-331539710c17",
   "metadata": {},
   "source": [
    "# Lineal Algebra\n",
    "\n",
    "### Basics\n",
    "Triangular Matrices\n",
    "$$\\begin{bmatrix} 3&0&0&0 \\\\ 2&1&0&0 \\\\ 1&0&1&0 \\\\ 1&1&1&1 \\\\ \\end{bmatrix} \\vec{x} = \\begin{bmatrix} 4\\\\2\\\\4\\\\2 \\end{bmatrix}$$"
   ]
  },
  {
   "cell_type": "code",
   "execution_count": 172,
   "id": "e7191b87-fd2e-44a2-bb33-77fdee228e3d",
   "metadata": {},
   "outputs": [
    {
     "data": {
      "text/plain": [
       "array([ 1.33333333, -0.66666667,  2.66666667, -1.33333333])"
      ]
     },
     "execution_count": 172,
     "metadata": {},
     "output_type": "execute_result"
    }
   ],
   "source": [
    "from scipy.linalg import solve_triangular\n",
    "a = np.array([[3,0,0,0],\n",
    "              [2,1,0,0],\n",
    "              [1,0,1,0],\n",
    "              [1,1,1,1]])\n",
    "b=np.array([4,2,4,2])\n",
    "x=solve_triangular(a,b,lower=True)\n",
    "x"
   ]
  },
  {
   "cell_type": "markdown",
   "id": "5c97db2c-3ca3-4ca0-94d3-94bbca825fb1",
   "metadata": {},
   "source": [
    "Toeplitz Matrices(matrices with constant diagonal)\n",
    "$$\\begin{bmatrix} 1&-1&2&3 \\\\ 3&1&-1&2 \\\\ 6&3&1&-1 \\\\ 10&6&3&1 \\\\ \\end{bmatrix} \\vec{x} = \\begin{bmatrix} 1\\\\2\\\\2\\\\5 \\end{bmatrix}$$"
   ]
  },
  {
   "cell_type": "code",
   "execution_count": 176,
   "id": "2776b18f-184e-49cd-9694-89b1f3267f95",
   "metadata": {},
   "outputs": [
    {
     "data": {
      "text/plain": [
       "array([ 1.66666667, -1.        , -2.66666667,  2.33333333])"
      ]
     },
     "execution_count": 176,
     "metadata": {},
     "output_type": "execute_result"
    }
   ],
   "source": [
    "from scipy.linalg import solve_toeplitz, toeplitz\n",
    "\n",
    "c = np.array([1,3,6,10])\n",
    "r = np.array([1,-1,-2,-3])\n",
    "b = np.array([1,2,2,5])\n",
    "x=solve_toeplitz((c,r),b)\n",
    "x"
   ]
  },
  {
   "cell_type": "markdown",
   "id": "b22c02d5-5cbc-4181-85a3-81505a3c11bd",
   "metadata": {},
   "source": [
    "# Eigenvalue Problems\n",
    "\n",
    "Eigenvalue problems can be solved using numpy, so here we focus on particular cases for optimization\n",
    "\n",
    "$$\\begin{bmatrix} 3&-1&0&0 \\\\ -1&3&0&0 \\\\ 0&-1&3&-1 \\\\ 0&0&-1&3 \\\\ \\end{bmatrix} \\vec{x} = \\lambda x$$"
   ]
  },
  {
   "cell_type": "code",
   "execution_count": 177,
   "id": "d778fbab-eeba-4a6c-b048-df219bfd5579",
   "metadata": {},
   "outputs": [],
   "source": [
    "from scipy.linalg import eigh_tridiagonal"
   ]
  },
  {
   "cell_type": "code",
   "execution_count": 183,
   "id": "84ca7d86-66cb-458d-9ef0-8f684cec49b4",
   "metadata": {},
   "outputs": [],
   "source": [
    "d= 3*np.ones(4)\n",
    "e = -1*np.ones(3)\n",
    "A=np.diag(d)+np.diag(e,k=1)+np.diag(e,k=-1)\n",
    "w,v = eigh_tridiagonal(d,e)"
   ]
  },
  {
   "cell_type": "code",
   "execution_count": 184,
   "id": "4c7d9b3b-0db7-43eb-87cf-d9d904f49fc4",
   "metadata": {},
   "outputs": [
    {
     "data": {
      "text/plain": [
       "array([ 0.60150096,  0.37174803, -0.37174803, -0.60150096])"
      ]
     },
     "execution_count": 184,
     "metadata": {},
     "output_type": "execute_result"
    }
   ],
   "source": [
    "v.T[1]"
   ]
  },
  {
   "cell_type": "markdown",
   "id": "673dd49e-03d2-4ef6-aee9-caff1769acfb",
   "metadata": {},
   "source": [
    "# Special Matrices\n",
    "Fiedler matrix $A_{ij} = |a_i-a_j|$ where $a_i$ is some sequence of numbers"
   ]
  },
  {
   "cell_type": "code",
   "execution_count": 188,
   "id": "9a18c93e-535b-40eb-b346-b36bdc2b0063",
   "metadata": {},
   "outputs": [
    {
     "data": {
      "text/plain": [
       "array([[ 0,  3, 11, 44],\n",
       "       [ 3,  0,  8, 41],\n",
       "       [11,  8,  0, 33],\n",
       "       [44, 41, 33,  0]])"
      ]
     },
     "execution_count": 188,
     "metadata": {},
     "output_type": "execute_result"
    }
   ],
   "source": [
    "from scipy.linalg import fiedler\n",
    "fiedler([1,4,12,45])"
   ]
  },
  {
   "cell_type": "code",
   "execution_count": null,
   "id": "c1d77526-11c4-442a-b4b3-c84ca489be4a",
   "metadata": {},
   "outputs": [],
   "source": []
  },
  {
   "cell_type": "markdown",
   "id": "9732b659-9101-4fad-bb91-acfb36519d6c",
   "metadata": {},
   "source": [
    "Toeplitz matrices (matrices with constant diagonals)"
   ]
  },
  {
   "cell_type": "code",
   "execution_count": 189,
   "id": "8a3410a1-5114-46a5-a515-bffa14fc3f33",
   "metadata": {},
   "outputs": [
    {
     "data": {
      "text/plain": [
       "array([[1, 4, 5, 6, 0, 0],\n",
       "       [2, 1, 4, 5, 6, 0],\n",
       "       [3, 2, 1, 4, 5, 6],\n",
       "       [6, 3, 2, 1, 4, 5],\n",
       "       [0, 6, 3, 2, 1, 4],\n",
       "       [0, 0, 6, 3, 2, 1]])"
      ]
     },
     "execution_count": 189,
     "metadata": {},
     "output_type": "execute_result"
    }
   ],
   "source": [
    "from scipy.linalg import toeplitz\n",
    "toeplitz([1,2,3,6,0,0],[1,4,5,6,0,0])"
   ]
  },
  {
   "cell_type": "code",
   "execution_count": null,
   "id": "3e57c161-29ae-4a88-a2a7-5f29c81242d0",
   "metadata": {},
   "outputs": [],
   "source": []
  },
  {
   "cell_type": "markdown",
   "id": "6a32bc01-ef51-4539-a301-b186b6442f96",
   "metadata": {},
   "source": [
    "# Decompositions\n",
    "\n",
    "LU decomposition $A= PLU$ where $P$ is apermutation matrix, $L$ is a lower triangular matrix and $U$ is an upper triangular matrix."
   ]
  },
  {
   "cell_type": "code",
   "execution_count": 190,
   "id": "74e5199f-57e9-427c-93e4-6d6a6d641e1f",
   "metadata": {},
   "outputs": [],
   "source": [
    "from scipy.linalg import lu"
   ]
  },
  {
   "cell_type": "code",
   "execution_count": 194,
   "id": "f95838a0-5b1c-486c-ad28-280adeeee86b",
   "metadata": {},
   "outputs": [],
   "source": [
    "A=np.array([[2,5,7,8],[5,2,2,8],[7,5,6,6],[5,4,4,8]])\n",
    "p,l,u =lu(A)"
   ]
  },
  {
   "cell_type": "markdown",
   "id": "4735710b-4634-4e63-9efd-5ed6e3ff9c9d",
   "metadata": {},
   "source": [
    "Choleski decomposition: find matrix $C$ such that $A=CC^T$"
   ]
  },
  {
   "cell_type": "code",
   "execution_count": 191,
   "id": "2bf96dce-ff04-46d1-a10f-00bdd35c8d62",
   "metadata": {},
   "outputs": [],
   "source": [
    "from scipy.linalg import cholesky"
   ]
  },
  {
   "cell_type": "code",
   "execution_count": 201,
   "id": "96e31428-c260-49c7-8138-56fd809446b5",
   "metadata": {},
   "outputs": [
    {
     "data": {
      "text/plain": [
       "array([[1.       , 0.       ],\n",
       "       [0.2      , 0.9797959]])"
      ]
     },
     "execution_count": 201,
     "metadata": {},
     "output_type": "execute_result"
    }
   ],
   "source": [
    "A=np.array([[1,0.2],[0.2,1]])\n",
    "c= cholesky(A,lower=True)\n",
    "c"
   ]
  },
  {
   "cell_type": "markdown",
   "id": "4b257a75-bbb4-4197-b9af-cfbdd87108c4",
   "metadata": {},
   "source": [
    "# Sparse Matrices\n",
    "Matrices that contain lots of zeros (so lots of space can be reduced)\n",
    "\n",
    "### A Useful Example:\n",
    "The second derivative of $f(x_i) \\equiv f_i$ is approximated as $\\frac{d^2f_i}{dx^2} \\approx \\frac{f_{i+1} + f_{i-1} -2f_i}{\\Delta X^2}$. Suppose we have $f_0,...,f_4$ and $f_0 = f_4 = 0$ (boundary conditions). Then the second derivative is approximated as \n",
    "\n",
    " $$\\begin{bmatrix} f_1 \\\\ f_2 \\\\ f_3 \\end{bmatrix} \\hspace{6mm} \\text{where} \\hspace{6mm} D = \\frac{1}{\\delta x^2} \\begin{bmatrix} -2&1&0 \\\\ 1&-2&1 \\\\ 0&1&-2 \\end{bmatrix}$$\n",
    " \n",
    "In 2D our function can be discretized on a grid\n",
    "\n",
    " $$\\begin{bmatrix} 0&0&0&0&0 \\\\ 0&f_{11}&f_{12}&f_{13}&0 \\\\ 0&f_{21}&f_{22}&f_{23}&0 \\\\ 0&f_{31}&f_{32}&f_{33}&0 \\\\ 0&0&0&0&0 \\end{bmatrix}$$\n",
    "but when doing this sort of work, its always better to store information in a vector\n",
    "\n",
    "  $$\\begin{bmatrix} 0&0&0&0&0 \\\\ 0&f_{11}&f_{12}&f_{13}&0 \\\\ 0&f_{21}&f_{22}&f_{23}&0 \\\\ 0&f_{31}&f_{32}&f_{33}&0 \\\\ 0&0&0&0&0 \\end{bmatrix} = \\begin{bmatrix} f_{11} \\\\ f_{12} \\\\ f_{13} \\\\ f_{21} \\\\ f_{22} \\\\ f_{23} \\\\ f_{31} \\\\ f_{32} \\\\ f_{33} \\end{bmatrix} $$\n",
    " \n",
    "What does the 2D laplacian look like? It turns out it is the \"Kroncker sum\" of our original matrix. The second derivative is given by\n",
    "\n",
    " $$D \\oplus D \\begin{bmatrix} f_{11} \\\\ f_{12} \\\\ f_{13} \\\\ f_{21} \\\\ f_{22} \\\\ f_{23} \\\\ f_{31} \\\\ f_{32} \\\\ f_{33} \\end{bmatrix} \\hspace{6mm} \\text{where} \\hspace{6mm} D = \\frac{1}{\\delta x^2} \\begin{bmatrix} -2&1&0 \\\\ 1&-2&1 \\\\ 0&1&-2 \\end{bmatrix}$$\n",
    " \n",
    "Note that even though  is 3x3,  is 9x9.\n",
    "\n"
   ]
  },
  {
   "cell_type": "code",
   "execution_count": 217,
   "id": "b12ea087-0443-470b-85b9-36d751bdbe55",
   "metadata": {},
   "outputs": [
    {
     "data": {
      "text/plain": [
       "array([[-4.,  1.,  0.,  0.,  0.,  1.,  0.,  0.,  0.,  0.,  0.,  0.,  0.,\n",
       "         0.,  0.,  0.,  0.,  0.,  0.,  0.,  0.,  0.,  0.,  0.,  0.],\n",
       "       [ 1., -4.,  1.,  0.,  0.,  0.,  1.,  0.,  0.,  0.,  0.,  0.,  0.,\n",
       "         0.,  0.,  0.,  0.,  0.,  0.,  0.,  0.,  0.,  0.,  0.,  0.],\n",
       "       [ 0.,  1., -4.,  1.,  0.,  0.,  0.,  1.,  0.,  0.,  0.,  0.,  0.,\n",
       "         0.,  0.,  0.,  0.,  0.,  0.,  0.,  0.,  0.,  0.,  0.,  0.],\n",
       "       [ 0.,  0.,  1., -4.,  1.,  0.,  0.,  0.,  1.,  0.,  0.,  0.,  0.,\n",
       "         0.,  0.,  0.,  0.,  0.,  0.,  0.,  0.,  0.,  0.,  0.,  0.],\n",
       "       [ 0.,  0.,  0.,  1., -4.,  0.,  0.,  0.,  0.,  1.,  0.,  0.,  0.,\n",
       "         0.,  0.,  0.,  0.,  0.,  0.,  0.,  0.,  0.,  0.,  0.,  0.],\n",
       "       [ 1.,  0.,  0.,  0.,  0., -4.,  1.,  0.,  0.,  0.,  1.,  0.,  0.,\n",
       "         0.,  0.,  0.,  0.,  0.,  0.,  0.,  0.,  0.,  0.,  0.,  0.],\n",
       "       [ 0.,  1.,  0.,  0.,  0.,  1., -4.,  1.,  0.,  0.,  0.,  1.,  0.,\n",
       "         0.,  0.,  0.,  0.,  0.,  0.,  0.,  0.,  0.,  0.,  0.,  0.],\n",
       "       [ 0.,  0.,  1.,  0.,  0.,  0.,  1., -4.,  1.,  0.,  0.,  0.,  1.,\n",
       "         0.,  0.,  0.,  0.,  0.,  0.,  0.,  0.,  0.,  0.,  0.,  0.],\n",
       "       [ 0.,  0.,  0.,  1.,  0.,  0.,  0.,  1., -4.,  1.,  0.,  0.,  0.,\n",
       "         1.,  0.,  0.,  0.,  0.,  0.,  0.,  0.,  0.,  0.,  0.,  0.],\n",
       "       [ 0.,  0.,  0.,  0.,  1.,  0.,  0.,  0.,  1., -4.,  0.,  0.,  0.,\n",
       "         0.,  1.,  0.,  0.,  0.,  0.,  0.,  0.,  0.,  0.,  0.,  0.],\n",
       "       [ 0.,  0.,  0.,  0.,  0.,  1.,  0.,  0.,  0.,  0., -4.,  1.,  0.,\n",
       "         0.,  0.,  1.,  0.,  0.,  0.,  0.,  0.,  0.,  0.,  0.,  0.],\n",
       "       [ 0.,  0.,  0.,  0.,  0.,  0.,  1.,  0.,  0.,  0.,  1., -4.,  1.,\n",
       "         0.,  0.,  0.,  1.,  0.,  0.,  0.,  0.,  0.,  0.,  0.,  0.],\n",
       "       [ 0.,  0.,  0.,  0.,  0.,  0.,  0.,  1.,  0.,  0.,  0.,  1., -4.,\n",
       "         1.,  0.,  0.,  0.,  1.,  0.,  0.,  0.,  0.,  0.,  0.,  0.],\n",
       "       [ 0.,  0.,  0.,  0.,  0.,  0.,  0.,  0.,  1.,  0.,  0.,  0.,  1.,\n",
       "        -4.,  1.,  0.,  0.,  0.,  1.,  0.,  0.,  0.,  0.,  0.,  0.],\n",
       "       [ 0.,  0.,  0.,  0.,  0.,  0.,  0.,  0.,  0.,  1.,  0.,  0.,  0.,\n",
       "         1., -4.,  0.,  0.,  0.,  0.,  1.,  0.,  0.,  0.,  0.,  0.],\n",
       "       [ 0.,  0.,  0.,  0.,  0.,  0.,  0.,  0.,  0.,  0.,  1.,  0.,  0.,\n",
       "         0.,  0., -4.,  1.,  0.,  0.,  0.,  1.,  0.,  0.,  0.,  0.],\n",
       "       [ 0.,  0.,  0.,  0.,  0.,  0.,  0.,  0.,  0.,  0.,  0.,  1.,  0.,\n",
       "         0.,  0.,  1., -4.,  1.,  0.,  0.,  0.,  1.,  0.,  0.,  0.],\n",
       "       [ 0.,  0.,  0.,  0.,  0.,  0.,  0.,  0.,  0.,  0.,  0.,  0.,  1.,\n",
       "         0.,  0.,  0.,  1., -4.,  1.,  0.,  0.,  0.,  1.,  0.,  0.],\n",
       "       [ 0.,  0.,  0.,  0.,  0.,  0.,  0.,  0.,  0.,  0.,  0.,  0.,  0.,\n",
       "         1.,  0.,  0.,  0.,  1., -4.,  1.,  0.,  0.,  0.,  1.,  0.],\n",
       "       [ 0.,  0.,  0.,  0.,  0.,  0.,  0.,  0.,  0.,  0.,  0.,  0.,  0.,\n",
       "         0.,  1.,  0.,  0.,  0.,  1., -4.,  0.,  0.,  0.,  0.,  1.],\n",
       "       [ 0.,  0.,  0.,  0.,  0.,  0.,  0.,  0.,  0.,  0.,  0.,  0.,  0.,\n",
       "         0.,  0.,  1.,  0.,  0.,  0.,  0., -4.,  1.,  0.,  0.,  0.],\n",
       "       [ 0.,  0.,  0.,  0.,  0.,  0.,  0.,  0.,  0.,  0.,  0.,  0.,  0.,\n",
       "         0.,  0.,  0.,  1.,  0.,  0.,  0.,  1., -4.,  1.,  0.,  0.],\n",
       "       [ 0.,  0.,  0.,  0.,  0.,  0.,  0.,  0.,  0.,  0.,  0.,  0.,  0.,\n",
       "         0.,  0.,  0.,  0.,  1.,  0.,  0.,  0.,  1., -4.,  1.,  0.],\n",
       "       [ 0.,  0.,  0.,  0.,  0.,  0.,  0.,  0.,  0.,  0.,  0.,  0.,  0.,\n",
       "         0.,  0.,  0.,  0.,  0.,  1.,  0.,  0.,  0.,  1., -4.,  1.],\n",
       "       [ 0.,  0.,  0.,  0.,  0.,  0.,  0.,  0.,  0.,  0.,  0.,  0.,  0.,\n",
       "         0.,  0.,  0.,  0.,  0.,  0.,  1.,  0.,  0.,  0.,  1., -4.]])"
      ]
     },
     "execution_count": 217,
     "metadata": {},
     "output_type": "execute_result"
    }
   ],
   "source": [
    "from scipy.linalg import kron\n",
    "N=5\n",
    "d=-2*np.ones(N)\n",
    "e=np.ones(N-1)\n",
    "D=np.diag(d)+np.diag(e,k=1)+np.diag(e,k=-1)\n",
    "D_kronsum=kron(D,np.identity(N))+kron(np.identity(N),D)\n",
    "D_kronsum"
   ]
  },
  {
   "cell_type": "markdown",
   "id": "fb38dfb3-6547-4532-a6dc-fe9a2cc5490d",
   "metadata": {},
   "source": [
    "Too big for any reasonable calculation! But can use sparse matrices"
   ]
  },
  {
   "cell_type": "code",
   "execution_count": 218,
   "id": "3736133f-96dc-4bfa-9153-427989ad00d1",
   "metadata": {},
   "outputs": [
    {
     "data": {
      "text/plain": [
       "<10000x10000 sparse matrix of type '<class 'numpy.float64'>'\n",
       "\twith 49600 stored elements in Compressed Sparse Row format>"
      ]
     },
     "execution_count": 218,
     "metadata": {},
     "output_type": "execute_result"
    }
   ],
   "source": [
    "from scipy import sparse\n",
    "N=100\n",
    "diag = np.ones([N])\n",
    "diags = np.array([diag, -2*diag, diag])\n",
    "D = sparse.spdiags(diags, np.array([-1,0,1]), N, N)\n",
    "sparse.kronsum(D,D)"
   ]
  },
  {
   "cell_type": "markdown",
   "id": "afa971bc-c15e-47af-987e-19c08b3b4068",
   "metadata": {},
   "source": [
    "See my 2D Schrodinger video for how I use this to construct eigenstates for arbitrary potentials!"
   ]
  },
  {
   "cell_type": "markdown",
   "id": "fd6093f5-7db8-4885-b909-da56de4b2be2",
   "metadata": {},
   "source": [
    "# Statistics\n",
    "***Example 1***: $\\beta$ distribution\n",
    "$$f(x;a,b) = \\frac{\\Gamma(a+b) x^{a-1} (1-x)^{b-1}}{\\Gamma(a)\\Gamma(b)} \\hspace{15mm} 0 \\leq x \\leq 1$$"
   ]
  },
  {
   "cell_type": "code",
   "execution_count": 234,
   "id": "11f350ae-f1e5-4ae6-95fd-b33aeca5d3a4",
   "metadata": {},
   "outputs": [],
   "source": [
    "from scipy.stats import beta"
   ]
  },
  {
   "cell_type": "markdown",
   "id": "3818cf03-18b0-45f1-b992-aa4f60f33a9c",
   "metadata": {},
   "source": [
    "Basic Statistics"
   ]
  },
  {
   "cell_type": "code",
   "execution_count": 235,
   "id": "485d21d5-fdce-49c9-b3d6-7e79cfaeb592",
   "metadata": {},
   "outputs": [],
   "source": [
    "a, b = 2.5, 3.1\n",
    "mean, var, skew, kurt = beta.stats(a, b, moments='mvsk')"
   ]
  },
  {
   "cell_type": "markdown",
   "id": "4340ce22-403e-43e7-a5cd-df90c6942d6d",
   "metadata": {},
   "source": [
    "Probability Distribution Plotting:"
   ]
  },
  {
   "cell_type": "code",
   "execution_count": 239,
   "id": "f6a3232a-7370-4ce9-bd21-060678e48da1",
   "metadata": {},
   "outputs": [
    {
     "data": {
      "text/plain": [
       "[<matplotlib.lines.Line2D at 0x201c1a30c10>]"
      ]
     },
     "execution_count": 239,
     "metadata": {},
     "output_type": "execute_result"
    },
    {
     "data": {
      "image/png": "[encoded data removed]",
      "text/plain": [
       "<Figure size 432x288 with 1 Axes>"
      ]
     },
     "metadata": {
      "needs_background": "light"
     },
     "output_type": "display_data"
    }
   ],
   "source": [
    "x = np.linspace(beta.ppf(0, a, b), beta.ppf(1, a, b), 100)\n",
    "plt.plot(x, beta.pdf(x, a, b))"
   ]
  },
  {
   "cell_type": "markdown",
   "id": "5ada3c26-97d5-4f50-bebe-054a7545481e",
   "metadata": {},
   "source": [
    "**Example 3**: Gaussian Distribution\n",
    "\n",
    "$$f(x;\\mu, \\sigma) = \\frac{1}{\\sqrt{2 \\pi \\sigma^2}} \\text{exp} -\\left(\\frac{(x-\\mu)^2}{\\sigma^2}\\right) \\hspace{15mm} -\\infty \\leq x \\leq \\infty\n",
    "$$"
   ]
  },
  {
   "cell_type": "code",
   "execution_count": 240,
   "id": "fba76713-8e43-450c-920e-d8977f032570",
   "metadata": {},
   "outputs": [],
   "source": [
    "from scipy.stats import norm"
   ]
  },
  {
   "cell_type": "code",
   "execution_count": 243,
   "id": "e7d20b53-cdb6-473c-84ed-0d93213d2c64",
   "metadata": {},
   "outputs": [],
   "source": [
    "mu=1\n",
    "sigma=2\n",
    "mean,var = norm.stats(loc=mu,scale=sigma,moments='mv')"
   ]
  },
  {
   "cell_type": "code",
   "execution_count": 247,
   "id": "11f6b73b-2b78-44ca-8f3a-b8a935ed1de9",
   "metadata": {},
   "outputs": [
    {
     "data": {
      "text/plain": [
       "[<matplotlib.lines.Line2D at 0x201c13baf10>]"
      ]
     },
     "execution_count": 247,
     "metadata": {},
     "output_type": "execute_result"
    },
    {
     "data": {
      "image/png": "[encoded data removed]",
      "text/plain": [
       "<Figure size 432x288 with 1 Axes>"
      ]
     },
     "metadata": {
      "needs_background": "light"
     },
     "output_type": "display_data"
    }
   ],
   "source": [
    "x = np.linspace(norm.ppf(0.01, mu, sigma), norm.ppf(0.99, mu, sigma), 100)\n",
    "plt.plot(x, norm.pdf(x, mu, sigma))"
   ]
  },
  {
   "cell_type": "markdown",
   "id": "434be1b5-e29f-43ee-810e-06970fe7441e",
   "metadata": {},
   "source": [
    "**Example 3**: Multinomial Distribution\n",
    "\n",
    " $$f(x_1,x_2,...,x_k;p_1,p_2,...p_k,n) = \\frac{n!}{x_1!...x_k} p_1^{x_1} p_2^{x_2}...p_k^{x_k}$$\n",
    "Rolling a die"
   ]
  },
  {
   "cell_type": "code",
   "execution_count": 250,
   "id": "deab38c6-348e-4e60-8a1f-5f47998e59d7",
   "metadata": {},
   "outputs": [
    {
     "data": {
      "text/plain": [
       "2.143347050754453e-05"
      ]
     },
     "execution_count": 250,
     "metadata": {},
     "output_type": "execute_result"
    }
   ],
   "source": [
    "from scipy.stats import multinomial\n",
    "p=np.ones(6)/6\n",
    "multinomial.pmf([6,0,0,0,0,0],n=6,p=p)"
   ]
  },
  {
   "cell_type": "code",
   "execution_count": 253,
   "id": "cdee03e8-b7ce-4b6f-bc41-933ae53b4f80",
   "metadata": {},
   "outputs": [
    {
     "data": {
      "text/plain": [
       "array([[13, 15, 28, 15, 14, 15],\n",
       "       [13, 19, 13, 13, 19, 23],\n",
       "       [13, 20,  7, 21, 22, 17],\n",
       "       [18, 17, 18, 16, 16, 15],\n",
       "       [19, 27, 17, 10, 15, 12]])"
      ]
     },
     "execution_count": 253,
     "metadata": {},
     "output_type": "execute_result"
    }
   ],
   "source": [
    "multinomial.rvs(n=100,p=p,size=5)"
   ]
  },
  {
   "cell_type": "markdown",
   "id": "11836d9f-7fc5-4503-a2ec-5541d6bb1f1a",
   "metadata": {},
   "source": [
    "**Example 4**: Generating Random Numbers from your own distribution\n",
    "$$f(x;a_1,a_2,b_1,b_2) = \\frac{1}{2(a_1b_1+a_2b_2)} \\left(b_1 \\text{exp} \\left(-\\sqrt{\\frac{x}{a_1}} \\right) + b_2 \\text{exp} \\left(-\\sqrt{\\frac{x}{a_2}}\\right) \\right) \\hspace{20mm} 0 \\leq x \\leq \\infty$$\n"
   ]
  },
  {
   "cell_type": "code",
   "execution_count": 254,
   "id": "56b107b8-db44-4dc8-96ab-e15bab326a05",
   "metadata": {},
   "outputs": [],
   "source": [
    "import scipy.stats as st\n",
    "\n",
    "class mr_p_solver_dist(st.rv_continuous):\n",
    "    def _pdf(self,x, a1, a2, b1, b2):\n",
    "        return 1/(2*(a1*b1+a2*b2))*(b1*np.exp(-np.sqrt(x/a1)) + b2*np.exp(-np.sqrt(x/a2)))\n",
    "my_rv = mr_p_solver_dist(a=0, b=np.inf)"
   ]
  },
  {
   "cell_type": "code",
   "execution_count": 255,
   "id": "3bf3cd0a-d927-4c08-82ca-f79f24969e92",
   "metadata": {},
   "outputs": [],
   "source": [
    "a1, a2, b1, b2 = 2, 3, 1, 2\n",
    "x = np.linspace(my_rv.ppf(0.01, a1, a2, b1, b2), my_rv.ppf(0.99, a1, a2, b1, b2), 100)\n",
    "y = my_rv.pdf(x, a1, a2, b1, b2)"
   ]
  },
  {
   "cell_type": "code",
   "execution_count": 256,
   "id": "1ad4016f-6f5a-42df-a39a-3a8c30a76d84",
   "metadata": {},
   "outputs": [
    {
     "data": {
      "image/png": "[encoded data removed]",
      "text/plain": [
       "<Figure size 432x288 with 1 Axes>"
      ]
     },
     "metadata": {
      "needs_background": "light"
     },
     "output_type": "display_data"
    }
   ],
   "source": [
    "plt.plot(x, y)\n",
    "plt.semilogy()\n",
    "plt.show()"
   ]
  },
  {
   "cell_type": "code",
   "execution_count": 257,
   "id": "5157fc64-83ba-4784-8ec6-1df7080e3859",
   "metadata": {},
   "outputs": [
    {
     "data": {
      "text/plain": [
       "array([15.11984411, 28.00302289, 26.66066462,  6.12498504,  5.96000164,\n",
       "       85.92401183,  0.52912653,  1.9648796 , 16.25913855,  1.13229747])"
      ]
     },
     "execution_count": 257,
     "metadata": {},
     "output_type": "execute_result"
    }
   ],
   "source": [
    "my_rv.rvs(a1, a2, b1, b2, size=10)"
   ]
  },
  {
   "cell_type": "code",
   "execution_count": 258,
   "id": "f46d7dd0-aadb-4d8e-91c1-2156cfb938b1",
   "metadata": {},
   "outputs": [],
   "source": [
    "class mr_p_solver_dist(st.rv_continuous):\n",
    "    def _pdf(self,x, a1, a2, b1, b2):\n",
    "        return 1/(2*(a1*b1+a2*b2))*(b1*np.exp(-np.sqrt(x/a1)) + b2*np.exp(-np.sqrt(x/a2)))\n",
    "    def _cdf(self, x, a1, a2, b1, b2):\n",
    "        return 1/(2*(a1*b1+a2*b2))* ( -2*a1*b1*(np.sqrt(x/a1)+1)*np.exp(-np.sqrt(x/a1)) \\\n",
    "           -2*a2*b2*(np.sqrt(x/b2)+1)*np.exp(-np.sqrt(x/b2)) \\\n",
    "           + 2*a1*b1 + 2*a2*b2 )\n",
    "    def _rvs(self, a1, a2, b1, b2, delta=0.001, size=None, random_state=None):\n",
    "        a_min = min([a1, a2])\n",
    "        x = np.linspace(0, a_min*np.log(1/delta)**2, 10000)\n",
    "        r = np.random.rand(size)\n",
    "        return x[np.searchsorted(self._cdf(x[:-1], a1, a2, b1, b2), r)]"
   ]
  },
  {
   "cell_type": "code",
   "execution_count": 274,
   "id": "eda1a2cb-93da-47b3-ac69-2754e912efaa",
   "metadata": {},
   "outputs": [
    {
     "data": {
      "text/plain": [
       "array([ 9.34393924,  3.01602125, 10.45108628, ..., 12.49358169,\n",
       "       19.56596062,  5.91751004])"
      ]
     },
     "execution_count": 274,
     "metadata": {},
     "output_type": "execute_result"
    }
   ],
   "source": [
    "my_rv = mr_p_solver_dist(a=0, b=np.inf)\n",
    "my_rv._rvs(a1, a2, b1, b2, size=10000)"
   ]
  }
 ],
 "metadata": {
  "kernelspec": {
   "display_name": "Python 3",
   "language": "python",
   "name": "python3"
  },
  "language_info": {
   "codemirror_mode": {
    "name": "ipython",
    "version": 3
   },
   "file_extension": ".py",
   "mimetype": "text/x-python",
   "name": "python",
   "nbconvert_exporter": "python",
   "pygments_lexer": "ipython3",
   "version": "3.8.8"
  }
 },
 "nbformat": 4,
 "nbformat_minor": 5
}
