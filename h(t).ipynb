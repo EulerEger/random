{
 "cells": [
  {
   "cell_type": "code",
   "execution_count": 2,
   "id": "d17eb456-f953-4f1b-a3e7-e4a6e61b1e84",
   "metadata": {},
   "outputs": [],
   "source": [
    "import numpy as np\n",
    "import matplotlib.pyplot as plt"
   ]
  },
  {
   "cell_type": "code",
   "execution_count": 3,
   "id": "ade088ed-2e93-4ead-aecb-3bb87eacc8bc",
   "metadata": {},
   "outputs": [],
   "source": [
    "t=np.arange(0,5.25,0.25)\n",
    "g=9.81\n",
    "h=0.5*g*t**2"
   ]
  },
  {
   "cell_type": "code",
   "execution_count": 4,
   "id": "634839d9-4442-4e52-986d-454bb55904b3",
   "metadata": {},
   "outputs": [
    {
     "data": {
      "image/png": "[encoded data removed]",
      "text/plain": [
       "<Figure size 432x288 with 1 Axes>"
      ]
     },
     "metadata": {
      "needs_background": "light"
     },
     "output_type": "display_data"
    }
   ],
   "source": [
    "plt.plot(t,h,'o-')\n",
    "plt.xlabel(\"Time (s)\")\n",
    "plt.ylabel(\"Height (m)\")\n",
    "plt.xticks(np.arange(min(t),max(t)+1,0.5))\n",
    "plt.yticks(np.arange(min(h),max(h)+1,10))\n",
    "plt.grid(bool, which='both', axis='both')\n",
    "plt.savefig('algo2.png')"
   ]
  },
  {
   "cell_type": "code",
   "execution_count": 133,
   "id": "b494a201-55f0-435d-ac8b-c9c3de712571",
   "metadata": {},
   "outputs": [
    {
     "data": {
      "text/plain": [
       "(array([0.  , 0.25, 0.5 , 0.75, 1.  , 1.25, 1.5 , 1.75, 2.  , 2.25, 2.5 ,\n",
       "        2.75, 3.  , 3.25, 3.5 , 3.75, 4.  , 4.25, 4.5 , 4.75, 5.  ]),\n",
       " array([  0.       ,   0.3065625,   1.22625  ,   2.7590625,   4.905    ,\n",
       "          7.6640625,  11.03625  ,  15.0215625,  19.62     ,  24.8315625,\n",
       "         30.65625  ,  37.0940625,  44.145    ,  51.8090625,  60.08625  ,\n",
       "         68.9765625,  78.48     ,  88.5965625,  99.32625  , 110.6690625,\n",
       "        122.625    ]))"
      ]
     },
     "execution_count": 133,
     "metadata": {},
     "output_type": "execute_result"
    }
   ],
   "source": [
    "t,h"
   ]
  },
  {
   "cell_type": "code",
   "execution_count": null,
   "id": "a79792cd-c234-423d-8bf0-e19fe98c8b3e",
   "metadata": {},
   "outputs": [],
   "source": []
  }
 ],
 "metadata": {
  "kernelspec": {
   "display_name": "Python 3",
   "language": "python",
   "name": "python3"
  },
  "language_info": {
   "codemirror_mode": {
    "name": "ipython",
    "version": 3
   },
   "file_extension": ".py",
   "mimetype": "text/x-python",
   "name": "python",
   "nbconvert_exporter": "python",
   "pygments_lexer": "ipython3",
   "version": "3.8.8"
  }
 },
 "nbformat": 4,
 "nbformat_minor": 5
}
