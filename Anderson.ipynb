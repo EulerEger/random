{
 "cells": [
  {
   "cell_type": "code",
   "execution_count": 1,
   "id": "b2bdd929-a528-403a-a2f5-e6751c72701f",
   "metadata": {},
   "outputs": [],
   "source": [
    "import numpy as np"
   ]
  },
  {
   "cell_type": "code",
   "execution_count": 2,
   "id": "48647f9a-b749-44f4-8c3f-09c821019a39",
   "metadata": {},
   "outputs": [],
   "source": [
    "cp=1.16 # kJ/kg°C\n",
    "m=0.96 # kg/s\n",
    "ti=157 # °C\n",
    "tf=98 # °C\n"
   ]
  },
  {
   "cell_type": "code",
   "execution_count": 8,
   "id": "3795e806-c984-4eca-87f5-5eaf1f705989",
   "metadata": {},
   "outputs": [
    {
     "name": "stdout",
     "output_type": "stream",
     "text": [
      "-65.7024 KW\n"
     ]
    }
   ],
   "source": [
    "q=m*cp*(tf-ti)\n",
    "print(q,'KW')"
   ]
  },
  {
   "cell_type": "code",
   "execution_count": 27,
   "id": "8b2a69a0-8b53-4122-af0e-b62d50ead936",
   "metadata": {},
   "outputs": [
    {
     "name": "stdout",
     "output_type": "stream",
     "text": [
      "1.12 kg/s\n"
     ]
    }
   ],
   "source": [
    "d=.12 # m\n",
    "A=np.pi*(d/2)**2 # m2\n",
    "f=.4526 # m3/kg\n",
    "v=45 # m/s\n",
    "m=A*v/f # kg/s\n",
    "print(round(m,2),'kg/s')"
   ]
  },
  {
   "cell_type": "code",
   "execution_count": 35,
   "id": "47e5b674-4922-4fed-91aa-69dbe316530a",
   "metadata": {},
   "outputs": [
    {
     "name": "stdout",
     "output_type": "stream",
     "text": [
      "1059067.87 kg/dia\n",
      "10590678.72 kg/10 dias\n"
     ]
    }
   ],
   "source": [
    "t_d=10 #dias\n",
    "t_s=10*(24*3600) # s al cabo de 10 dias\n",
    "m=12.27 # kg/s\n",
    "x_s= 0.001\n",
    "x_g=1-x_s\n",
    "m1=f*x_g*(60*60*24)\n",
    "m2=f*t_s*x_g\n",
    "print(round(m1,2),'kg/dia')\n",
    "print(round(m2,2),'kg/10 dias')"
   ]
  },
  {
   "cell_type": "code",
   "execution_count": 38,
   "id": "f5d36913-2585-4122-9365-34a925eb671a",
   "metadata": {},
   "outputs": [
    {
     "name": "stdout",
     "output_type": "stream",
     "text": [
      "1060.13 kg/dia\n",
      "10601.28 kg/10 dias\n"
     ]
    }
   ],
   "source": [
    "t_d=10 #dias\n",
    "t_s=10*(24*3600) # s al cabo de 10 dias\n",
    "m=12.27 # kg/s\n",
    "x_s= 0.001\n",
    "x_g=1-x_s\n",
    "m1=f*x_s*(60*60*24)\n",
    "m2=f*t_s*x_s\n",
    "print(round(m1,2),'kg/dia')\n",
    "print(round(m2,2),'kg/10 dias')"
   ]
  },
  {
   "cell_type": "code",
   "execution_count": null,
   "id": "286ac34f-3df4-4854-93c0-0c803c48e829",
   "metadata": {},
   "outputs": [],
   "source": []
  },
  {
   "cell_type": "code",
   "execution_count": null,
   "id": "ad8c57a7-0894-4652-ba7e-a5f4bdeb257c",
   "metadata": {},
   "outputs": [],
   "source": []
  },
  {
   "cell_type": "markdown",
   "id": "cc1f7b1d-f44a-4995-b135-01802c5c7777",
   "metadata": {},
   "source": [
    "$\n",
    "t(dias)=10 \\ dias \\\\\n",
    "t(s_{10 dias}) = 864,000 \\ segundos \\\\\n",
    "\\dot{m} = 12.27 \\frac{kg}{s} \\\\\n",
    "x_s = 0.001 \\\\\n",
    "\\dot{m_g} = \\dot{m} x_s*t(s_{10 dias}) = 10,601.28 \\frac{kg}{10 dias}\n",
    "$"
   ]
  },
  {
   "cell_type": "code",
   "execution_count": null,
   "id": "50f5b096-eaef-4593-aaf5-b85a97b6d623",
   "metadata": {},
   "outputs": [],
   "source": []
  }
 ],
 "metadata": {
  "kernelspec": {
   "display_name": "Python 3",
   "language": "python",
   "name": "python3"
  },
  "language_info": {
   "codemirror_mode": {
    "name": "ipython",
    "version": 3
   },
   "file_extension": ".py",
   "mimetype": "text/x-python",
   "name": "python",
   "nbconvert_exporter": "python",
   "pygments_lexer": "ipython3",
   "version": "3.8.8"
  }
 },
 "nbformat": 4,
 "nbformat_minor": 5
}
